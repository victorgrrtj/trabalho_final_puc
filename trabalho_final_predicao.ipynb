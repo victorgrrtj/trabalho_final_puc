{
  "nbformat": 4,
  "nbformat_minor": 0,
  "metadata": {
    "colab": {
      "provenance": [],
      "authorship_tag": "ABX9TyMV6U9dDZC11KpggG6oTYwX",
      "include_colab_link": true
    },
    "kernelspec": {
      "display_name": "Python 3",
      "name": "python3"
    },
    "language_info": {
      "name": "python"
    }
  },
  "cells": [
    {
      "cell_type": "markdown",
      "metadata": {
        "id": "view-in-github",
        "colab_type": "text"
      },
      "source": [
        "<a href=\"https://colab.research.google.com/github/victorgrrtj/trabalho_final_puc/blob/main/trabalho_final_predicao.ipynb\" target=\"_parent\"><img src=\"https://colab.research.google.com/assets/colab-badge.svg\" alt=\"Open In Colab\"/></a>"
      ]
    },
    {
      "cell_type": "markdown",
      "metadata": {
        "id": "5T9_JTLXrKYN"
      },
      "source": [
        "\n",
        "# Trabalho Final - Treinamento do Modelo Preditivo"
      ]
    },
    {
      "cell_type": "markdown",
      "metadata": {
        "id": "55fqYjJjrasB"
      },
      "source": [
        "## Importação de Bibliotecas"
      ]
    },
    {
      "cell_type": "code",
      "source": [
        "!cat /etc/os-release"
      ],
      "metadata": {
        "id": "BCVMqnkl2LNR",
        "collapsed": true,
        "outputId": "55f9b99b-497a-4c2d-fdfc-9e7fc1b276aa",
        "colab": {
          "base_uri": "https://localhost:8080/"
        }
      },
      "execution_count": 1,
      "outputs": [
        {
          "output_type": "stream",
          "name": "stdout",
          "text": [
            "PRETTY_NAME=\"Ubuntu 22.04.2 LTS\"\n",
            "NAME=\"Ubuntu\"\n",
            "VERSION_ID=\"22.04\"\n",
            "VERSION=\"22.04.2 LTS (Jammy Jellyfish)\"\n",
            "VERSION_CODENAME=jammy\n",
            "ID=ubuntu\n",
            "ID_LIKE=debian\n",
            "HOME_URL=\"https://www.ubuntu.com/\"\n",
            "SUPPORT_URL=\"https://help.ubuntu.com/\"\n",
            "BUG_REPORT_URL=\"https://bugs.launchpad.net/ubuntu/\"\n",
            "PRIVACY_POLICY_URL=\"https://www.ubuntu.com/legal/terms-and-policies/privacy-policy\"\n",
            "UBUNTU_CODENAME=jammy\n"
          ]
        }
      ]
    },
    {
      "cell_type": "code",
      "source": [
        "%%sh\n",
        "sudo su\n",
        "curl https://packages.microsoft.com/keys/microsoft.asc | apt-key add -\n",
        "\n",
        "curl https://packages.microsoft.com/config/ubuntu/$(lsb_release -rs)/prod.list > /etc/apt/sources.list.d/mssql-release.list\n",
        "\n",
        "exit\n",
        "sudo apt-get update\n",
        "sudo ACCEPT_EULA=Y apt-get install -y msodbcsql18\n",
        "\n",
        "# optional: for bcp and sqlcmd\n",
        "sudo ACCEPT_EULA=Y apt-get install -y mssql-tools18\n",
        "echo 'export PATH=\"$PATH:/opt/mssql-tools18/bin\"' >> ~/.bashrc\n",
        "source ~/.bashrc\n",
        "# optional: for unixODBC development headers\n",
        "sudo apt-get install -y unixodbc-dev"
      ],
      "metadata": {
        "id": "soVhw11x2VG_",
        "collapsed": true,
        "outputId": "3e40a40a-c372-4673-ae01-2e1e0a8c093b",
        "colab": {
          "base_uri": "https://localhost:8080/"
        }
      },
      "execution_count": 2,
      "outputs": [
        {
          "output_type": "stream",
          "name": "stdout",
          "text": [
            "OK\n"
          ]
        },
        {
          "output_type": "stream",
          "name": "stderr",
          "text": [
            "  % Total    % Received % Xferd  Average Speed   Time    Time     Time  Current\n",
            "                                 Dload  Upload   Total   Spent    Left  Speed\n",
            "\r  0     0    0     0    0     0      0      0 --:--:-- --:--:-- --:--:--     0Warning: apt-key is deprecated. Manage keyring files in trusted.gpg.d instead (see apt-key(8)).\n",
            "\r100   983  100   983    0     0   4168      0 --:--:-- --:--:-- --:--:--  4182\n",
            "  % Total    % Received % Xferd  Average Speed   Time    Time     Time  Current\n",
            "                                 Dload  Upload   Total   Spent    Left  Speed\n",
            "\r  0     0    0     0    0     0      0      0 --:--:-- --:--:-- --:--:--     0\r100    88  100    88    0     0    478      0 --:--:-- --:--:-- --:--:--   480\n"
          ]
        }
      ]
    },
    {
      "cell_type": "code",
      "source": [
        "%%sh\n",
        "sudo apt-get update\n",
        "sudo ACCEPT_EULA=Y apt-get install -y msodbcsql17\n",
        "# optional: for bcp and sqlcmd\n",
        "sudo ACCEPT_EULA=Y apt-get install -y mssql-tools\n",
        "echo 'export PATH=\"$PATH:/opt/mssql-tools/bin\"' >> ~/.bashrc\n",
        "source ~/.bashrc\n",
        "# optional: for unixODBC development headers\n",
        "sudo apt-get install -y unixodbc-dev"
      ],
      "metadata": {
        "id": "OLDwQ40Y287-",
        "collapsed": true,
        "outputId": "10319f2a-e4bf-4af7-a5ee-13beb2b99579",
        "colab": {
          "base_uri": "https://localhost:8080/"
        }
      },
      "execution_count": 3,
      "outputs": [
        {
          "output_type": "stream",
          "name": "stdout",
          "text": [
            "Get:1 https://packages.microsoft.com/ubuntu/22.04/prod jammy InRelease [3,611 B]\n",
            "Hit:2 https://developer.download.nvidia.com/compute/cuda/repos/ubuntu2204/x86_64  InRelease\n",
            "Hit:3 http://archive.ubuntu.com/ubuntu jammy InRelease\n",
            "Get:4 http://security.ubuntu.com/ubuntu jammy-security InRelease [110 kB]\n",
            "Get:5 http://archive.ubuntu.com/ubuntu jammy-updates InRelease [119 kB]\n",
            "Get:6 https://packages.microsoft.com/ubuntu/22.04/prod jammy/main arm64 Packages [16.7 kB]\n",
            "Get:7 https://packages.microsoft.com/ubuntu/22.04/prod jammy/main all Packages [970 B]\n",
            "Get:8 https://packages.microsoft.com/ubuntu/22.04/prod jammy/main amd64 Packages [78.1 kB]\n",
            "Hit:9 https://ppa.launchpadcontent.net/deadsnakes/ppa/ubuntu jammy InRelease\n",
            "Get:10 https://packages.microsoft.com/ubuntu/22.04/prod jammy/main armhf Packages [8,411 B]\n",
            "Get:11 http://archive.ubuntu.com/ubuntu jammy-backports InRelease [108 kB]\n",
            "Hit:12 https://ppa.launchpadcontent.net/graphics-drivers/ppa/ubuntu jammy InRelease\n",
            "Get:13 http://security.ubuntu.com/ubuntu jammy-security/restricted amd64 Packages [842 kB]\n",
            "Get:14 http://archive.ubuntu.com/ubuntu jammy-updates/universe amd64 Packages [1,212 kB]\n",
            "Hit:15 https://ppa.launchpadcontent.net/ubuntugis/ppa/ubuntu jammy InRelease\n",
            "Get:16 http://security.ubuntu.com/ubuntu jammy-security/universe amd64 Packages [957 kB]\n",
            "Get:17 http://security.ubuntu.com/ubuntu jammy-security/main amd64 Packages [798 kB]\n",
            "Get:18 http://archive.ubuntu.com/ubuntu jammy-updates/main amd64 Packages [1,081 kB]\n",
            "Get:19 http://archive.ubuntu.com/ubuntu jammy-updates/restricted amd64 Packages [857 kB]\n",
            "Fetched 6,193 kB in 2s (3,666 kB/s)\n",
            "Reading package lists...\n",
            "Reading package lists...\n",
            "Building dependency tree...\n",
            "Reading state information...\n",
            "The following additional packages will be installed:\n",
            "  odbcinst unixodbc\n",
            "The following NEW packages will be installed:\n",
            "  msodbcsql17 odbcinst unixodbc\n",
            "0 upgraded, 3 newly installed, 0 to remove and 10 not upgraded.\n",
            "Need to get 781 kB of archives.\n",
            "After this operation, 164 kB of additional disk space will be used.\n",
            "Get:1 https://packages.microsoft.com/ubuntu/22.04/prod jammy/main amd64 msodbcsql17 amd64 17.10.4.1-1 [745 kB]\n",
            "Get:2 http://archive.ubuntu.com/ubuntu jammy/universe amd64 odbcinst amd64 2.3.9-5 [10.0 kB]\n",
            "Get:3 http://archive.ubuntu.com/ubuntu jammy/universe amd64 unixodbc amd64 2.3.9-5 [26.8 kB]\n",
            "Fetched 781 kB in 0s (2,003 kB/s)\n",
            "Selecting previously unselected package odbcinst.\r\n",
            "(Reading database ... \r(Reading database ... 5%\r(Reading database ... 10%\r(Reading database ... 15%\r(Reading database ... 20%\r(Reading database ... 25%\r(Reading database ... 30%\r(Reading database ... 35%\r(Reading database ... 40%\r(Reading database ... 45%\r(Reading database ... 50%\r(Reading database ... 55%\r(Reading database ... 60%\r(Reading database ... 65%\r(Reading database ... 70%\r(Reading database ... 75%\r(Reading database ... 80%\r(Reading database ... 85%\r(Reading database ... 90%\r(Reading database ... 95%\r(Reading database ... 100%\r(Reading database ... 129824 files and directories currently installed.)\r\n",
            "Preparing to unpack .../odbcinst_2.3.9-5_amd64.deb ...\r\n",
            "Unpacking odbcinst (2.3.9-5) ...\r\n",
            "Selecting previously unselected package unixodbc.\r\n",
            "Preparing to unpack .../unixodbc_2.3.9-5_amd64.deb ...\r\n",
            "Unpacking unixodbc (2.3.9-5) ...\r\n",
            "Selecting previously unselected package msodbcsql17.\r\n",
            "Preparing to unpack .../msodbcsql17_17.10.4.1-1_amd64.deb ...\r\n",
            "debconf: unable to initialize frontend: Dialog\r\n",
            "debconf: (No usable dialog-like program is installed, so the dialog based frontend cannot be used. at /usr/share/perl5/Debconf/FrontEnd/Dialog.pm line 78.)\r\n",
            "debconf: falling back to frontend: Readline\r\n",
            "Unpacking msodbcsql17 (17.10.4.1-1) ...\r\n",
            "Setting up odbcinst (2.3.9-5) ...\r\n",
            "Setting up unixodbc (2.3.9-5) ...\r\n",
            "Setting up msodbcsql17 (17.10.4.1-1) ...\r\n",
            "odbcinst: Driver installed. Usage count increased to 1. \r\n",
            "    Target directory is /etc\r\n",
            "Processing triggers for man-db (2.10.2-1) ...\r\n",
            "Reading package lists...\n",
            "Building dependency tree...\n",
            "Reading state information...\n",
            "The following NEW packages will be installed:\n",
            "  mssql-tools\n",
            "0 upgraded, 1 newly installed, 0 to remove and 10 not upgraded.\n",
            "Need to get 211 kB of archives.\n",
            "After this operation, 0 B of additional disk space will be used.\n",
            "Get:1 https://packages.microsoft.com/ubuntu/22.04/prod jammy/main amd64 mssql-tools amd64 17.10.1.1-1 [211 kB]\n",
            "Fetched 211 kB in 0s (1,079 kB/s)\n",
            "Selecting previously unselected package mssql-tools.\r\n",
            "(Reading database ... \r(Reading database ... 5%\r(Reading database ... 10%\r(Reading database ... 15%\r(Reading database ... 20%\r(Reading database ... 25%\r(Reading database ... 30%\r(Reading database ... 35%\r(Reading database ... 40%\r(Reading database ... 45%\r(Reading database ... 50%\r(Reading database ... 55%\r(Reading database ... 60%\r(Reading database ... 65%\r(Reading database ... 70%\r(Reading database ... 75%\r(Reading database ... 80%\r(Reading database ... 85%\r(Reading database ... 90%\r(Reading database ... 95%\r(Reading database ... 100%\r(Reading database ... 129857 files and directories currently installed.)\r\n",
            "Preparing to unpack .../mssql-tools_17.10.1.1-1_amd64.deb ...\r\n",
            "Unpacking mssql-tools (17.10.1.1-1) ...\r\n",
            "Setting up mssql-tools (17.10.1.1-1) ...\r\n",
            "debconf: unable to initialize frontend: Dialog\r\n",
            "debconf: (No usable dialog-like program is installed, so the dialog based frontend cannot be used. at /usr/share/perl5/Debconf/FrontEnd/Dialog.pm line 78.)\r\n",
            "debconf: falling back to frontend: Readline\r\n",
            "Reading package lists...\n",
            "Building dependency tree...\n",
            "Reading state information...\n",
            "unixodbc-dev is already the newest version (2.3.9-5).\n",
            "unixodbc-dev set to manually installed.\n",
            "0 upgraded, 0 newly installed, 0 to remove and 10 not upgraded.\n"
          ]
        },
        {
          "output_type": "stream",
          "name": "stderr",
          "text": [
            "W: https://packages.microsoft.com/ubuntu/22.04/prod/dists/jammy/InRelease: Key is stored in legacy trusted.gpg keyring (/etc/apt/trusted.gpg), see the DEPRECATION section in apt-key(8) for details.\n",
            "debconf: unable to initialize frontend: Dialog\n",
            "debconf: (No usable dialog-like program is installed, so the dialog based frontend cannot be used. at /usr/share/perl5/Debconf/FrontEnd/Dialog.pm line 78, <> line 3.)\n",
            "debconf: falling back to frontend: Readline\n",
            "debconf: unable to initialize frontend: Readline\n",
            "debconf: (This frontend requires a controlling tty.)\n",
            "debconf: falling back to frontend: Teletype\n",
            "dpkg-preconfigure: unable to re-open stdin: \n",
            "debconf: unable to initialize frontend: Dialog\n",
            "debconf: (No usable dialog-like program is installed, so the dialog based frontend cannot be used. at /usr/share/perl5/Debconf/FrontEnd/Dialog.pm line 78, <> line 1.)\n",
            "debconf: falling back to frontend: Readline\n",
            "debconf: unable to initialize frontend: Readline\n",
            "debconf: (This frontend requires a controlling tty.)\n",
            "debconf: falling back to frontend: Teletype\n",
            "dpkg-preconfigure: unable to re-open stdin: \n",
            "sh: 6: source: not found\n"
          ]
        }
      ]
    },
    {
      "cell_type": "code",
      "source": [
        "!sudo apt-get install unixodbc-dev"
      ],
      "metadata": {
        "id": "FN8QQUTD3Wl6",
        "collapsed": true,
        "outputId": "e71f07ac-52ae-4cf7-d199-54725b2bd940",
        "colab": {
          "base_uri": "https://localhost:8080/"
        }
      },
      "execution_count": 4,
      "outputs": [
        {
          "output_type": "stream",
          "name": "stdout",
          "text": [
            "Reading package lists... Done\n",
            "Building dependency tree... Done\n",
            "Reading state information... Done\n",
            "unixodbc-dev is already the newest version (2.3.9-5).\n",
            "0 upgraded, 0 newly installed, 0 to remove and 10 not upgraded.\n"
          ]
        }
      ]
    },
    {
      "cell_type": "code",
      "source": [
        "!pip install pyodbc\n",
        "!pip install chart_studio"
      ],
      "metadata": {
        "id": "3qssSVrw3dCk",
        "collapsed": true,
        "outputId": "e3cbcd39-fcd1-4563-eea2-7a19836fa519",
        "colab": {
          "base_uri": "https://localhost:8080/"
        }
      },
      "execution_count": 5,
      "outputs": [
        {
          "output_type": "stream",
          "name": "stdout",
          "text": [
            "Collecting pyodbc\n",
            "  Downloading pyodbc-4.0.39-cp310-cp310-manylinux_2_17_x86_64.manylinux2014_x86_64.whl (343 kB)\n",
            "\u001b[?25l     \u001b[90m━━━━━━━━━━━━━━━━━━━━━━━━━━━━━━━━━━━━━━━━\u001b[0m \u001b[32m0.0/343.5 kB\u001b[0m \u001b[31m?\u001b[0m eta \u001b[36m-:--:--\u001b[0m\r\u001b[2K     \u001b[91m━━━━━━━━━━\u001b[0m\u001b[91m╸\u001b[0m\u001b[90m━━━━━━━━━━━━━━━━━━━━━━━━━━━━━\u001b[0m \u001b[32m92.2/343.5 kB\u001b[0m \u001b[31m2.5 MB/s\u001b[0m eta \u001b[36m0:00:01\u001b[0m\r\u001b[2K     \u001b[91m━━━━━━━━━━━━━━━━━━━━━━━━━━━━━━━━━━━━━━\u001b[0m\u001b[90m╺\u001b[0m \u001b[32m337.9/343.5 kB\u001b[0m \u001b[31m5.3 MB/s\u001b[0m eta \u001b[36m0:00:01\u001b[0m\r\u001b[2K     \u001b[90m━━━━━━━━━━━━━━━━━━━━━━━━━━━━━━━━━━━━━━━\u001b[0m \u001b[32m343.5/343.5 kB\u001b[0m \u001b[31m4.5 MB/s\u001b[0m eta \u001b[36m0:00:00\u001b[0m\n",
            "\u001b[?25hInstalling collected packages: pyodbc\n",
            "Successfully installed pyodbc-4.0.39\n",
            "Collecting chart_studio\n",
            "  Downloading chart_studio-1.1.0-py3-none-any.whl (64 kB)\n",
            "\u001b[2K     \u001b[90m━━━━━━━━━━━━━━━━━━━━━━━━━━━━━━━━━━━━━━━\u001b[0m \u001b[32m64.4/64.4 kB\u001b[0m \u001b[31m881.1 kB/s\u001b[0m eta \u001b[36m0:00:00\u001b[0m\n",
            "\u001b[?25hRequirement already satisfied: plotly in /usr/local/lib/python3.10/dist-packages (from chart_studio) (5.13.1)\n",
            "Requirement already satisfied: requests in /usr/local/lib/python3.10/dist-packages (from chart_studio) (2.27.1)\n",
            "Collecting retrying>=1.3.3 (from chart_studio)\n",
            "  Downloading retrying-1.3.4-py3-none-any.whl (11 kB)\n",
            "Requirement already satisfied: six in /usr/local/lib/python3.10/dist-packages (from chart_studio) (1.16.0)\n",
            "Requirement already satisfied: tenacity>=6.2.0 in /usr/local/lib/python3.10/dist-packages (from plotly->chart_studio) (8.2.2)\n",
            "Requirement already satisfied: urllib3<1.27,>=1.21.1 in /usr/local/lib/python3.10/dist-packages (from requests->chart_studio) (1.26.16)\n",
            "Requirement already satisfied: certifi>=2017.4.17 in /usr/local/lib/python3.10/dist-packages (from requests->chart_studio) (2023.5.7)\n",
            "Requirement already satisfied: charset-normalizer~=2.0.0 in /usr/local/lib/python3.10/dist-packages (from requests->chart_studio) (2.0.12)\n",
            "Requirement already satisfied: idna<4,>=2.5 in /usr/local/lib/python3.10/dist-packages (from requests->chart_studio) (3.4)\n",
            "Installing collected packages: retrying, chart_studio\n",
            "Successfully installed chart_studio-1.1.0 retrying-1.3.4\n"
          ]
        }
      ]
    },
    {
      "cell_type": "code",
      "source": [
        "!pip install unidecode"
      ],
      "metadata": {
        "id": "9Esa-5hncQFV",
        "collapsed": true,
        "outputId": "8625ea44-af43-404b-c9a4-c50febdd602e",
        "colab": {
          "base_uri": "https://localhost:8080/"
        }
      },
      "execution_count": 6,
      "outputs": [
        {
          "output_type": "stream",
          "name": "stdout",
          "text": [
            "Collecting unidecode\n",
            "  Downloading Unidecode-1.3.6-py3-none-any.whl (235 kB)\n",
            "\u001b[?25l     \u001b[90m━━━━━━━━━━━━━━━━━━━━━━━━━━━━━━━━━━━━━━━━\u001b[0m \u001b[32m0.0/235.9 kB\u001b[0m \u001b[31m?\u001b[0m eta \u001b[36m-:--:--\u001b[0m\r\u001b[2K     \u001b[91m━━━━━━\u001b[0m\u001b[91m╸\u001b[0m\u001b[90m━━━━━━━━━━━━━━━━━━━━━━━━━━━━━━━\u001b[0m \u001b[32m41.0/235.9 kB\u001b[0m \u001b[31m968.4 kB/s\u001b[0m eta \u001b[36m0:00:01\u001b[0m\r\u001b[2K     \u001b[91m━━━━━━━━━━━━━━━━━━━━━━━━━━━━━━━━━━━━━━\u001b[0m\u001b[91m╸\u001b[0m \u001b[32m235.5/235.9 kB\u001b[0m \u001b[31m3.5 MB/s\u001b[0m eta \u001b[36m0:00:01\u001b[0m\r\u001b[2K     \u001b[90m━━━━━━━━━━━━━━━━━━━━━━━━━━━━━━━━━━━━━━━\u001b[0m \u001b[32m235.9/235.9 kB\u001b[0m \u001b[31m3.0 MB/s\u001b[0m eta \u001b[36m0:00:00\u001b[0m\n",
            "\u001b[?25hInstalling collected packages: unidecode\n",
            "Successfully installed unidecode-1.3.6\n"
          ]
        }
      ]
    },
    {
      "cell_type": "code",
      "source": [
        "!pip install pymysql"
      ],
      "metadata": {
        "id": "xmhgNrlKyngR",
        "collapsed": true,
        "outputId": "2b946a18-2f53-4c79-bb52-f291ab158fcf",
        "colab": {
          "base_uri": "https://localhost:8080/"
        }
      },
      "execution_count": 7,
      "outputs": [
        {
          "output_type": "stream",
          "name": "stdout",
          "text": [
            "Collecting pymysql\n",
            "  Downloading PyMySQL-1.1.0-py3-none-any.whl (44 kB)\n",
            "\u001b[?25l     \u001b[90m━━━━━━━━━━━━━━━━━━━━━━━━━━━━━━━━━━━━━━━━\u001b[0m \u001b[32m0.0/44.8 kB\u001b[0m \u001b[31m?\u001b[0m eta \u001b[36m-:--:--\u001b[0m\r\u001b[2K     \u001b[90m━━━━━━━━━━━━━━━━━━━━━━━━━━━━━━━━━━━━━━━━\u001b[0m \u001b[32m44.8/44.8 kB\u001b[0m \u001b[31m1.2 MB/s\u001b[0m eta \u001b[36m0:00:00\u001b[0m\n",
            "\u001b[?25hInstalling collected packages: pymysql\n",
            "Successfully installed pymysql-1.1.0\n"
          ]
        }
      ]
    },
    {
      "cell_type": "code",
      "metadata": {
        "id": "9aWsgUxLRRwk"
      },
      "source": [
        "# Importação das bibliotecas\n",
        "import requests\n",
        "import unidecode\n",
        "import pandas as pd\n",
        "import math\n",
        "import time\n",
        "import random\n",
        "import sqlalchemy\n",
        "from sqlalchemy import create_engine\n",
        "import pymysql\n",
        "import pyodbc\n",
        "import joblib\n",
        "import datetime as dt\n",
        "import pytz\n",
        "headers = {\n",
        "    'Authorization': 'Bearer $ACCESS_TOKEN',\n",
        "}"
      ],
      "execution_count": 8,
      "outputs": []
    },
    {
      "cell_type": "code",
      "source": [
        "user = 'adminskyblue'\n",
        "pw = input('Digite a senha: ')\n",
        "server = 'skyblue.database.windows.net'\n",
        "database = 'skyblue'\n",
        "\n",
        "\n",
        "engine = sqlalchemy.create_engine(\n",
        "    \"mssql+pyodbc://\"+user+\":\"+pw+\"@\"+server+\"/\"+database+\"?driver=ODBC+Driver+17+for+SQL+Server\",\n",
        "    fast_executemany=True\n",
        ")"
      ],
      "metadata": {
        "id": "hyr0NnKN3ul7",
        "collapsed": true,
        "outputId": "fca4186b-a525-4728-f84f-736a9f6b451a",
        "colab": {
          "base_uri": "https://localhost:8080/"
        }
      },
      "execution_count": 20,
      "outputs": [
        {
          "name": "stdout",
          "output_type": "stream",
          "text": [
            "Digite a senha: Adminsky1!\n"
          ]
        }
      ]
    },
    {
      "cell_type": "markdown",
      "metadata": {
        "id": "rQU3oTeEtZxC"
      },
      "source": [
        "## Sumarização de todas as extrações."
      ]
    },
    {
      "cell_type": "code",
      "metadata": {
        "id": "v8PdWveGW6XS",
        "collapsed": true,
        "outputId": "2df76897-dfd4-42c4-f447-388dcb63618b",
        "colab": {
          "base_uri": "https://localhost:8080/"
        }
      },
      "source": [
        "\"\"\" Contém looping para todas as páginas.\n",
        "Retorna um dicionário com as informações de cada imóvel.\n",
        "Devido à quantidade de páginas, este processo pode demorar mais de 30 minutos.\"\"\"\n",
        "\n",
        "headers = {\n",
        "    'Authorization': 'Bearer $ACCESS_TOKEN',\n",
        "}\n",
        "\n",
        "offset = 0\n",
        "pag_inicial = 'https://api.mercadolibre.com/sites/MLB/search?q=Iphone%2014&offset='+str(offset)\n",
        "\n",
        "response = requests.get(\n",
        "  pag_inicial,\n",
        "  headers=headers)\n",
        "json = response.json()\n",
        "qtd_pag = round(json['paging']['total']/50)\n",
        "qtd_itens = json['paging']['total']\n",
        "\n",
        "print(\"Foram encontradas {} páginas e {} produtos.\".format(qtd_pag, qtd_itens))\n",
        "\n",
        "offset = 0\n",
        "url_list = [pag_inicial]\n",
        "for page in range(qtd_pag):\n",
        "  offset += 50\n",
        "  prox_pagina = 'https://api.mercadolibre.com/sites/MLB/search?q=Iphone%2014&offset='+str(offset)\n",
        "  url_list.append(prox_pagina)\n",
        "\n",
        "extracted_data = []\n",
        "\n",
        "for index, url in enumerate(url_list):\n",
        "  response = requests.get(\n",
        "      url,\n",
        "      headers=headers)\n",
        "  print(\"Codigo de resposta da pagina {}: {}\".format(url, response.status_code))\n",
        "\n",
        "  json = response.json()\n",
        "  results = json['results']\n",
        "  time.sleep(random.randint(2,6))\n",
        "\n",
        "  for item in results:\n",
        "    product_dict = {}\n",
        "    product_dict['id'] = item.get('id')\n",
        "    product_dict['titulo'] = item.get('title')\n",
        "    product_dict['condicao'] = item.get('condition')\n",
        "    product_dict['link'] = item.get('permalink')\n",
        "    product_dict['preco'] = item.get('price')\n",
        "    for attribute in item.get('attributes'):\n",
        "      if attribute.get('name') == 'Marca':\n",
        "        product_dict['marca'] = attribute.get('value_name')\n",
        "      elif attribute.get('name') == 'Linha':\n",
        "        product_dict['linha'] = attribute.get('value_name')\n",
        "      elif attribute.get('name') == 'Modelo':\n",
        "        product_dict['modelo'] = attribute.get('value_name')\n",
        "    product_dict['nome_vendedor'] = item.get('seller').get('nickname')\n",
        "    product_dict['nvl_vendedor'] = item.get('seller').get('seller_reputation').get('level_id')\n",
        "\n",
        "    vendas_concluidas = item.get('seller').get('seller_reputation').get('transactions').get('completed')\n",
        "    product_dict['vendas_concluidas'] = vendas_concluidas\n",
        "\n",
        "    if vendas_concluidas == 0:\n",
        "      product_dict['cat_vendas'] = '0 vendas'\n",
        "    elif vendas_concluidas < 11:\n",
        "      product_dict['cat_vendas'] = '+ 1 vendas'\n",
        "    elif vendas_concluidas < 101:\n",
        "      product_dict['cat_vendas'] = '+ 10 vendas'\n",
        "    elif vendas_concluidas < 1001:\n",
        "      product_dict['cat_vendas'] = '+ 100 vendas'\n",
        "    else:\n",
        "      product_dict['cat_vendas'] = '+ 1.000 vendas'\n",
        "\n",
        "    qtd_avaliacoes = item.get('seller').get('seller_reputation').get('transactions').get('total')\n",
        "    product_dict['qtd_avaliacoes'] = qtd_avaliacoes\n",
        "    avlc_pos = item.get('seller').get('seller_reputation').get('transactions').get('ratings').get('positive')\n",
        "    product_dict['avlc_pos'] = avlc_pos\n",
        "    avlc_neut = item.get('seller').get('seller_reputation').get('transactions').get('ratings').get('neutral')\n",
        "    product_dict['avlc_neut'] = avlc_neut\n",
        "    avlc_neg = item.get('seller').get('seller_reputation').get('transactions').get('ratings').get('negative')\n",
        "    product_dict['avlc_neg'] = avlc_neg\n",
        "\n",
        "    if qtd_avaliacoes == 0:\n",
        "      product_dict['rating'] = 0\n",
        "    else:\n",
        "      product_dict['rating'] = ((qtd_avaliacoes * avlc_pos * 5) + (qtd_avaliacoes * avlc_neut * 3) + (qtd_avaliacoes * avlc_neg * 1)) / qtd_avaliacoes\n",
        "    extracted_data.append(product_dict)\n",
        "\n",
        "    if qtd_avaliacoes == 0:\n",
        "      product_dict['cat_avaliacoes'] = '0 avaliações'\n",
        "    elif qtd_avaliacoes < 11:\n",
        "      product_dict['cat_avaliacoes'] = '+ 1 avaliação'\n",
        "    elif qtd_avaliacoes < 101:\n",
        "      product_dict['cat_avaliacoes'] = '+ 10 avaliações'\n",
        "    elif qtd_avaliacoes < 1001:\n",
        "      product_dict['cat_avaliacoes'] = '+ 100 avaliações'\n",
        "    else:\n",
        "      product_dict['cat_avaliacoes'] = '+ 1.000 avaliações'\n",
        "\n",
        "  print('Finished page ' + str(index + 1))\n",
        "print('Finished all pages')"
      ],
      "execution_count": 63,
      "outputs": [
        {
          "output_type": "stream",
          "name": "stdout",
          "text": [
            "Foram encontradas 17 páginas e 827 produtos.\n",
            "Codigo de resposta da pagina https://api.mercadolibre.com/sites/MLB/search?q=Iphone%2014&offset=0: 200\n",
            "Finished page 1\n",
            "Codigo de resposta da pagina https://api.mercadolibre.com/sites/MLB/search?q=Iphone%2014&offset=50: 200\n",
            "Finished page 2\n",
            "Codigo de resposta da pagina https://api.mercadolibre.com/sites/MLB/search?q=Iphone%2014&offset=100: 200\n",
            "Finished page 3\n",
            "Codigo de resposta da pagina https://api.mercadolibre.com/sites/MLB/search?q=Iphone%2014&offset=150: 200\n",
            "Finished page 4\n",
            "Codigo de resposta da pagina https://api.mercadolibre.com/sites/MLB/search?q=Iphone%2014&offset=200: 200\n",
            "Finished page 5\n",
            "Codigo de resposta da pagina https://api.mercadolibre.com/sites/MLB/search?q=Iphone%2014&offset=250: 200\n",
            "Finished page 6\n",
            "Codigo de resposta da pagina https://api.mercadolibre.com/sites/MLB/search?q=Iphone%2014&offset=300: 200\n",
            "Finished page 7\n",
            "Codigo de resposta da pagina https://api.mercadolibre.com/sites/MLB/search?q=Iphone%2014&offset=350: 200\n",
            "Finished page 8\n",
            "Codigo de resposta da pagina https://api.mercadolibre.com/sites/MLB/search?q=Iphone%2014&offset=400: 200\n",
            "Finished page 9\n",
            "Codigo de resposta da pagina https://api.mercadolibre.com/sites/MLB/search?q=Iphone%2014&offset=450: 200\n",
            "Finished page 10\n",
            "Codigo de resposta da pagina https://api.mercadolibre.com/sites/MLB/search?q=Iphone%2014&offset=500: 200\n",
            "Finished page 11\n",
            "Codigo de resposta da pagina https://api.mercadolibre.com/sites/MLB/search?q=Iphone%2014&offset=550: 200\n",
            "Finished page 12\n",
            "Codigo de resposta da pagina https://api.mercadolibre.com/sites/MLB/search?q=Iphone%2014&offset=600: 200\n",
            "Finished page 13\n",
            "Codigo de resposta da pagina https://api.mercadolibre.com/sites/MLB/search?q=Iphone%2014&offset=650: 200\n",
            "Finished page 14\n",
            "Codigo de resposta da pagina https://api.mercadolibre.com/sites/MLB/search?q=Iphone%2014&offset=700: 200\n",
            "Finished page 15\n",
            "Codigo de resposta da pagina https://api.mercadolibre.com/sites/MLB/search?q=Iphone%2014&offset=750: 200\n",
            "Finished page 16\n",
            "Codigo de resposta da pagina https://api.mercadolibre.com/sites/MLB/search?q=Iphone%2014&offset=800: 200\n",
            "Finished page 17\n",
            "Codigo de resposta da pagina https://api.mercadolibre.com/sites/MLB/search?q=Iphone%2014&offset=850: 200\n",
            "Finished page 18\n",
            "Finished all pages\n"
          ]
        }
      ]
    },
    {
      "cell_type": "code",
      "source": [
        "df.info()"
      ],
      "metadata": {
        "id": "yeLHrX63vIG_",
        "outputId": "bdb9a9fe-6276-49a6-8d13-afa550ee57dd",
        "colab": {
          "base_uri": "https://localhost:8080/"
        }
      },
      "execution_count": 23,
      "outputs": [
        {
          "output_type": "stream",
          "name": "stdout",
          "text": [
            "<class 'pandas.core.frame.DataFrame'>\n",
            "RangeIndex: 821 entries, 0 to 820\n",
            "Data columns (total 15 columns):\n",
            " #   Column             Non-Null Count  Dtype  \n",
            "---  ------             --------------  -----  \n",
            " 0   id                 821 non-null    object \n",
            " 1   titulo             821 non-null    object \n",
            " 2   condicao           821 non-null    object \n",
            " 3   link               821 non-null    object \n",
            " 4   preco              821 non-null    float64\n",
            " 5   marca              821 non-null    object \n",
            " 6   linha              821 non-null    object \n",
            " 7   modelo             821 non-null    object \n",
            " 8   nome_vendedor      821 non-null    object \n",
            " 9   nvl_vendedor       218 non-null    object \n",
            " 10  vendas_concluidas  821 non-null    int64  \n",
            " 11  qtd_avaliacoes     821 non-null    int64  \n",
            " 12  avlc_pos           821 non-null    float64\n",
            " 13  avlc_neut          821 non-null    float64\n",
            " 14  avlc_neg           821 non-null    float64\n",
            "dtypes: float64(4), int64(2), object(9)\n",
            "memory usage: 96.3+ KB\n"
          ]
        }
      ]
    },
    {
      "cell_type": "code",
      "source": [
        "df = pd.json_normalize(extracted_data)"
      ],
      "metadata": {
        "id": "WjgTJZxen0XL"
      },
      "execution_count": 64,
      "outputs": []
    },
    {
      "cell_type": "code",
      "source": [
        "def formataCondicao(x):\n",
        "  if x == 'new':\n",
        "    return 'Novo'\n",
        "  else:\n",
        "    return 'Usado'\n",
        "\n",
        "def formataAvaliacaoVendedor(x):\n",
        "  if x == '1_red':\n",
        "    return 'Péssimo'\n",
        "  elif x == '2_orange':\n",
        "    return 'Ruim'\n",
        "  elif x == '3_yellow':\n",
        "    return 'Regular'\n",
        "  elif x == '4_light_green':\n",
        "    return 'Bom'\n",
        "  elif x == '5_green':\n",
        "    return 'Excelente'\n",
        "  else:\n",
        "    return 'N/A'\n",
        "\n",
        "def formataArmazenamento(x):\n",
        "  if '128' in x:\n",
        "    return '128 GB'\n",
        "  elif '256'in x:\n",
        "    return '256 GB'\n",
        "  elif '512'in x:\n",
        "    return '512 GB'\n",
        "  elif 'tb' or 'Tb' or 'TB'in x:\n",
        "    return '1 TB'\n",
        "  else:\n",
        "    return 'N/A'"
      ],
      "metadata": {
        "id": "f9EoQlJ0pwf8"
      },
      "execution_count": 65,
      "outputs": []
    },
    {
      "cell_type": "code",
      "source": [
        "df['condicao'] = df['condicao'].apply(formataCondicao)"
      ],
      "metadata": {
        "id": "kojC8GtJo4vk"
      },
      "execution_count": 66,
      "outputs": []
    },
    {
      "cell_type": "code",
      "source": [
        "df['nvl_vendedor'] = df['nvl_vendedor'].apply(formataAvaliacaoVendedor)"
      ],
      "metadata": {
        "id": "fnXcf-9n9D8I"
      },
      "execution_count": 67,
      "outputs": []
    },
    {
      "cell_type": "code",
      "source": [
        "df['armazenamento'] = df['titulo'].apply(formataArmazenamento)"
      ],
      "metadata": {
        "id": "BwiBSBR89NgB"
      },
      "execution_count": 68,
      "outputs": []
    },
    {
      "cell_type": "code",
      "source": [
        "df.shape"
      ],
      "metadata": {
        "id": "DK5vaVzdqGL4",
        "outputId": "1b2602f9-8736-4f67-f3a9-f414bb666eb6",
        "colab": {
          "base_uri": "https://localhost:8080/"
        }
      },
      "execution_count": 69,
      "outputs": [
        {
          "output_type": "execute_result",
          "data": {
            "text/plain": [
              "(827, 19)"
            ]
          },
          "metadata": {},
          "execution_count": 69
        }
      ]
    },
    {
      "cell_type": "code",
      "source": [
        "df['ts_carga'] = str(dt.datetime.now(pytz.timezone('Etc/GMT+3')).strftime('%d-%m-%Y %X'))"
      ],
      "metadata": {
        "id": "HOIttuxVsjNA"
      },
      "execution_count": 70,
      "outputs": []
    },
    {
      "cell_type": "code",
      "source": [
        "df.drop(df.index[df['modelo'] == 'Pro'], inplace=True)\n",
        "df.drop(df.index[df['modelo'] == 'iPhone'], inplace=True)\n",
        "df.drop(df.index[df['modelo'] == 'iPhone 7'], inplace=True)\n",
        "df.drop(df.index[df['modelo'] == 'iPhone 7 Plus'], inplace=True)\n",
        "df.drop(df.index[df['modelo'] == 'iPhone 12 Pro'], inplace=True)\n",
        "df.drop(df.index[df['modelo'] == 'iPhone 12'], inplace=True)\n",
        "df.drop(df.index[df['modelo'] == 'iPhone XR'], inplace=True)\n",
        "df.drop(df.index[df['modelo'] == 'iPhone XS'], inplace=True)\n",
        "df.drop(df.index[df['modelo'] == 'iPhones 8 ao 14'], inplace=True)\n",
        "df.drop(df.index[df['modelo'] == 'iPhone 14 normal'], inplace=True)\n",
        "df.drop(df.index[df['modelo'] == 'iPhone 11'], inplace=True)\n",
        "df.drop(df.index[df['modelo'] == 'iPhone 11 Pro'], inplace=True)\n",
        "df.drop(df.index[df['modelo'] == 'iPhone 11 Pro Max'], inplace=True)\n",
        "df.drop(df.index[df['modelo'] == 'iPhone 13'], inplace=True)\n",
        "df.drop(df.index[df['modelo'] == 'iPhone 13 Pro'], inplace=True)\n",
        "df.drop(df.index[df['modelo'] == 'iPhone 13 Pro Max'], inplace=True)\n",
        "df.drop(df.index[df['titulo'].str.contains('iphone', case=False) == False], inplace=True)\n",
        "df.drop(df.index[df['titulo'].str.contains('14', case=False) == False], inplace=True)\n",
        "df.reset_index(inplace=True, drop=True)"
      ],
      "metadata": {
        "id": "93-1vJZYVoBZ"
      },
      "execution_count": 71,
      "outputs": []
    },
    {
      "cell_type": "code",
      "source": [
        "df['titulo'] = df['titulo'].apply(lambda x: unidecode.unidecode(x))"
      ],
      "metadata": {
        "id": "h27xoubKb2MM"
      },
      "execution_count": 72,
      "outputs": []
    },
    {
      "cell_type": "code",
      "source": [
        "df.head()"
      ],
      "metadata": {
        "id": "44SgSMAJ-J4U",
        "outputId": "a551a201-1a2c-41ae-a55e-4f6ec9f973ff",
        "colab": {
          "base_uri": "https://localhost:8080/",
          "height": 686
        }
      },
      "execution_count": 43,
      "outputs": [
        {
          "output_type": "execute_result",
          "data": {
            "text/plain": [
              "              id                                        titulo condicao  \\\n",
              "0  MLB3829572796  Apple iPhone 14 Pro (128 Gb) - Roxo-profundo     Novo   \n",
              "1  MLB3382690563         Apple iPhone 14 (128 Gb) - Meia-noite     Novo   \n",
              "2  MLB3384473755         Apple iPhone 14 Pro (1 Tb) - Prateado     Novo   \n",
              "3  MLB3340408779        Apple iPhone 14 Pro (256 Gb) - Dourado     Novo   \n",
              "4  MLB3683852876        Apple iPhone 14 Pro (512 Gb) - Dourado     Novo   \n",
              "\n",
              "                                                link    preco  marca   linha  \\\n",
              "0  https://www.mercadolivre.com.br/apple-iphone-1...   6571.0  Apple  iPhone   \n",
              "1  https://www.mercadolivre.com.br/apple-iphone-1...   5078.0  Apple  iPhone   \n",
              "2  https://www.mercadolivre.com.br/apple-iphone-1...  10399.0  Apple  iPhone   \n",
              "3  https://www.mercadolivre.com.br/apple-iphone-1...   7640.0  Apple  iPhone   \n",
              "4  https://www.mercadolivre.com.br/apple-iphone-1...   9250.0  Apple  iPhone   \n",
              "\n",
              "          modelo               nome_vendedor nvl_vendedor  vendas_concluidas  \\\n",
              "0  iPhone 14 Pro                   NPGAMES01    Excelente               1135   \n",
              "1      iPhone 14         BALBINO ELETRÔNICOS    Excelente                 36   \n",
              "2  iPhone 14 Pro          PREÇO.BAIXO.BRASIL    Excelente               6549   \n",
              "3  iPhone 14 Pro  GODINHOERICA20230109153505      Regular                485   \n",
              "4  iPhone 14 Pro             R9DISTRIBUIDORA    Excelente               1418   \n",
              "\n",
              "     cat_vendas  qtd_avaliacoes  avlc_pos  avlc_neut  avlc_neg  rating  \\\n",
              "0  +1000 vendas            1238      0.94       0.00      0.06    4.76   \n",
              "1    +10 vendas              39      0.00       1.00      0.00    3.00   \n",
              "2  +1000 vendas            7764      0.92       0.01      0.07    4.70   \n",
              "3   +100 vendas             637      0.65       0.04      0.31    3.68   \n",
              "4  +1000 vendas            1638      0.82       0.02      0.16    4.32   \n",
              "\n",
              "     cat_avaliacoes armazenamento             ts_carga  \n",
              "0  +1000 avaliações        128 GB  24-07-2023 23:54:47  \n",
              "1    +10 avaliações        128 GB  24-07-2023 23:54:47  \n",
              "2  +1000 avaliações          1 TB  24-07-2023 23:54:47  \n",
              "3   +100 avaliações        256 GB  24-07-2023 23:54:47  \n",
              "4  +1000 avaliações        512 GB  24-07-2023 23:54:47  "
            ],
            "text/html": [
              "\n",
              "\n",
              "  <div id=\"df-2d01d251-b7ae-43e7-a0d6-b02653899f02\">\n",
              "    <div class=\"colab-df-container\">\n",
              "      <div>\n",
              "<style scoped>\n",
              "    .dataframe tbody tr th:only-of-type {\n",
              "        vertical-align: middle;\n",
              "    }\n",
              "\n",
              "    .dataframe tbody tr th {\n",
              "        vertical-align: top;\n",
              "    }\n",
              "\n",
              "    .dataframe thead th {\n",
              "        text-align: right;\n",
              "    }\n",
              "</style>\n",
              "<table border=\"1\" class=\"dataframe\">\n",
              "  <thead>\n",
              "    <tr style=\"text-align: right;\">\n",
              "      <th></th>\n",
              "      <th>id</th>\n",
              "      <th>titulo</th>\n",
              "      <th>condicao</th>\n",
              "      <th>link</th>\n",
              "      <th>preco</th>\n",
              "      <th>marca</th>\n",
              "      <th>linha</th>\n",
              "      <th>modelo</th>\n",
              "      <th>nome_vendedor</th>\n",
              "      <th>nvl_vendedor</th>\n",
              "      <th>vendas_concluidas</th>\n",
              "      <th>cat_vendas</th>\n",
              "      <th>qtd_avaliacoes</th>\n",
              "      <th>avlc_pos</th>\n",
              "      <th>avlc_neut</th>\n",
              "      <th>avlc_neg</th>\n",
              "      <th>rating</th>\n",
              "      <th>cat_avaliacoes</th>\n",
              "      <th>armazenamento</th>\n",
              "      <th>ts_carga</th>\n",
              "    </tr>\n",
              "  </thead>\n",
              "  <tbody>\n",
              "    <tr>\n",
              "      <th>0</th>\n",
              "      <td>MLB3829572796</td>\n",
              "      <td>Apple iPhone 14 Pro (128 Gb) - Roxo-profundo</td>\n",
              "      <td>Novo</td>\n",
              "      <td>https://www.mercadolivre.com.br/apple-iphone-1...</td>\n",
              "      <td>6571.0</td>\n",
              "      <td>Apple</td>\n",
              "      <td>iPhone</td>\n",
              "      <td>iPhone 14 Pro</td>\n",
              "      <td>NPGAMES01</td>\n",
              "      <td>Excelente</td>\n",
              "      <td>1135</td>\n",
              "      <td>+1000 vendas</td>\n",
              "      <td>1238</td>\n",
              "      <td>0.94</td>\n",
              "      <td>0.00</td>\n",
              "      <td>0.06</td>\n",
              "      <td>4.76</td>\n",
              "      <td>+1000 avaliações</td>\n",
              "      <td>128 GB</td>\n",
              "      <td>24-07-2023 23:54:47</td>\n",
              "    </tr>\n",
              "    <tr>\n",
              "      <th>1</th>\n",
              "      <td>MLB3382690563</td>\n",
              "      <td>Apple iPhone 14 (128 Gb) - Meia-noite</td>\n",
              "      <td>Novo</td>\n",
              "      <td>https://www.mercadolivre.com.br/apple-iphone-1...</td>\n",
              "      <td>5078.0</td>\n",
              "      <td>Apple</td>\n",
              "      <td>iPhone</td>\n",
              "      <td>iPhone 14</td>\n",
              "      <td>BALBINO ELETRÔNICOS</td>\n",
              "      <td>Excelente</td>\n",
              "      <td>36</td>\n",
              "      <td>+10 vendas</td>\n",
              "      <td>39</td>\n",
              "      <td>0.00</td>\n",
              "      <td>1.00</td>\n",
              "      <td>0.00</td>\n",
              "      <td>3.00</td>\n",
              "      <td>+10 avaliações</td>\n",
              "      <td>128 GB</td>\n",
              "      <td>24-07-2023 23:54:47</td>\n",
              "    </tr>\n",
              "    <tr>\n",
              "      <th>2</th>\n",
              "      <td>MLB3384473755</td>\n",
              "      <td>Apple iPhone 14 Pro (1 Tb) - Prateado</td>\n",
              "      <td>Novo</td>\n",
              "      <td>https://www.mercadolivre.com.br/apple-iphone-1...</td>\n",
              "      <td>10399.0</td>\n",
              "      <td>Apple</td>\n",
              "      <td>iPhone</td>\n",
              "      <td>iPhone 14 Pro</td>\n",
              "      <td>PREÇO.BAIXO.BRASIL</td>\n",
              "      <td>Excelente</td>\n",
              "      <td>6549</td>\n",
              "      <td>+1000 vendas</td>\n",
              "      <td>7764</td>\n",
              "      <td>0.92</td>\n",
              "      <td>0.01</td>\n",
              "      <td>0.07</td>\n",
              "      <td>4.70</td>\n",
              "      <td>+1000 avaliações</td>\n",
              "      <td>1 TB</td>\n",
              "      <td>24-07-2023 23:54:47</td>\n",
              "    </tr>\n",
              "    <tr>\n",
              "      <th>3</th>\n",
              "      <td>MLB3340408779</td>\n",
              "      <td>Apple iPhone 14 Pro (256 Gb) - Dourado</td>\n",
              "      <td>Novo</td>\n",
              "      <td>https://www.mercadolivre.com.br/apple-iphone-1...</td>\n",
              "      <td>7640.0</td>\n",
              "      <td>Apple</td>\n",
              "      <td>iPhone</td>\n",
              "      <td>iPhone 14 Pro</td>\n",
              "      <td>GODINHOERICA20230109153505</td>\n",
              "      <td>Regular</td>\n",
              "      <td>485</td>\n",
              "      <td>+100 vendas</td>\n",
              "      <td>637</td>\n",
              "      <td>0.65</td>\n",
              "      <td>0.04</td>\n",
              "      <td>0.31</td>\n",
              "      <td>3.68</td>\n",
              "      <td>+100 avaliações</td>\n",
              "      <td>256 GB</td>\n",
              "      <td>24-07-2023 23:54:47</td>\n",
              "    </tr>\n",
              "    <tr>\n",
              "      <th>4</th>\n",
              "      <td>MLB3683852876</td>\n",
              "      <td>Apple iPhone 14 Pro (512 Gb) - Dourado</td>\n",
              "      <td>Novo</td>\n",
              "      <td>https://www.mercadolivre.com.br/apple-iphone-1...</td>\n",
              "      <td>9250.0</td>\n",
              "      <td>Apple</td>\n",
              "      <td>iPhone</td>\n",
              "      <td>iPhone 14 Pro</td>\n",
              "      <td>R9DISTRIBUIDORA</td>\n",
              "      <td>Excelente</td>\n",
              "      <td>1418</td>\n",
              "      <td>+1000 vendas</td>\n",
              "      <td>1638</td>\n",
              "      <td>0.82</td>\n",
              "      <td>0.02</td>\n",
              "      <td>0.16</td>\n",
              "      <td>4.32</td>\n",
              "      <td>+1000 avaliações</td>\n",
              "      <td>512 GB</td>\n",
              "      <td>24-07-2023 23:54:47</td>\n",
              "    </tr>\n",
              "  </tbody>\n",
              "</table>\n",
              "</div>\n",
              "      <button class=\"colab-df-convert\" onclick=\"convertToInteractive('df-2d01d251-b7ae-43e7-a0d6-b02653899f02')\"\n",
              "              title=\"Convert this dataframe to an interactive table.\"\n",
              "              style=\"display:none;\">\n",
              "\n",
              "  <svg xmlns=\"http://www.w3.org/2000/svg\" height=\"24px\"viewBox=\"0 0 24 24\"\n",
              "       width=\"24px\">\n",
              "    <path d=\"M0 0h24v24H0V0z\" fill=\"none\"/>\n",
              "    <path d=\"M18.56 5.44l.94 2.06.94-2.06 2.06-.94-2.06-.94-.94-2.06-.94 2.06-2.06.94zm-11 1L8.5 8.5l.94-2.06 2.06-.94-2.06-.94L8.5 2.5l-.94 2.06-2.06.94zm10 10l.94 2.06.94-2.06 2.06-.94-2.06-.94-.94-2.06-.94 2.06-2.06.94z\"/><path d=\"M17.41 7.96l-1.37-1.37c-.4-.4-.92-.59-1.43-.59-.52 0-1.04.2-1.43.59L10.3 9.45l-7.72 7.72c-.78.78-.78 2.05 0 2.83L4 21.41c.39.39.9.59 1.41.59.51 0 1.02-.2 1.41-.59l7.78-7.78 2.81-2.81c.8-.78.8-2.07 0-2.86zM5.41 20L4 18.59l7.72-7.72 1.47 1.35L5.41 20z\"/>\n",
              "  </svg>\n",
              "      </button>\n",
              "\n",
              "\n",
              "\n",
              "    <div id=\"df-af496e7c-4339-487d-add0-7a61a509d4fd\">\n",
              "      <button class=\"colab-df-quickchart\" onclick=\"quickchart('df-af496e7c-4339-487d-add0-7a61a509d4fd')\"\n",
              "              title=\"Suggest charts.\"\n",
              "              style=\"display:none;\">\n",
              "\n",
              "<svg xmlns=\"http://www.w3.org/2000/svg\" height=\"24px\"viewBox=\"0 0 24 24\"\n",
              "     width=\"24px\">\n",
              "    <g>\n",
              "        <path d=\"M19 3H5c-1.1 0-2 .9-2 2v14c0 1.1.9 2 2 2h14c1.1 0 2-.9 2-2V5c0-1.1-.9-2-2-2zM9 17H7v-7h2v7zm4 0h-2V7h2v10zm4 0h-2v-4h2v4z\"/>\n",
              "    </g>\n",
              "</svg>\n",
              "      </button>\n",
              "    </div>\n",
              "\n",
              "<style>\n",
              "  .colab-df-quickchart {\n",
              "    background-color: #E8F0FE;\n",
              "    border: none;\n",
              "    border-radius: 50%;\n",
              "    cursor: pointer;\n",
              "    display: none;\n",
              "    fill: #1967D2;\n",
              "    height: 32px;\n",
              "    padding: 0 0 0 0;\n",
              "    width: 32px;\n",
              "  }\n",
              "\n",
              "  .colab-df-quickchart:hover {\n",
              "    background-color: #E2EBFA;\n",
              "    box-shadow: 0px 1px 2px rgba(60, 64, 67, 0.3), 0px 1px 3px 1px rgba(60, 64, 67, 0.15);\n",
              "    fill: #174EA6;\n",
              "  }\n",
              "\n",
              "  [theme=dark] .colab-df-quickchart {\n",
              "    background-color: #3B4455;\n",
              "    fill: #D2E3FC;\n",
              "  }\n",
              "\n",
              "  [theme=dark] .colab-df-quickchart:hover {\n",
              "    background-color: #434B5C;\n",
              "    box-shadow: 0px 1px 3px 1px rgba(0, 0, 0, 0.15);\n",
              "    filter: drop-shadow(0px 1px 2px rgba(0, 0, 0, 0.3));\n",
              "    fill: #FFFFFF;\n",
              "  }\n",
              "</style>\n",
              "\n",
              "    <script>\n",
              "      async function quickchart(key) {\n",
              "        const containerElement = document.querySelector('#' + key);\n",
              "        const charts = await google.colab.kernel.invokeFunction(\n",
              "            'suggestCharts', [key], {});\n",
              "      }\n",
              "    </script>\n",
              "\n",
              "      <script>\n",
              "\n",
              "function displayQuickchartButton(domScope) {\n",
              "  let quickchartButtonEl =\n",
              "    domScope.querySelector('#df-af496e7c-4339-487d-add0-7a61a509d4fd button.colab-df-quickchart');\n",
              "  quickchartButtonEl.style.display =\n",
              "    google.colab.kernel.accessAllowed ? 'block' : 'none';\n",
              "}\n",
              "\n",
              "        displayQuickchartButton(document);\n",
              "      </script>\n",
              "      <style>\n",
              "    .colab-df-container {\n",
              "      display:flex;\n",
              "      flex-wrap:wrap;\n",
              "      gap: 12px;\n",
              "    }\n",
              "\n",
              "    .colab-df-convert {\n",
              "      background-color: #E8F0FE;\n",
              "      border: none;\n",
              "      border-radius: 50%;\n",
              "      cursor: pointer;\n",
              "      display: none;\n",
              "      fill: #1967D2;\n",
              "      height: 32px;\n",
              "      padding: 0 0 0 0;\n",
              "      width: 32px;\n",
              "    }\n",
              "\n",
              "    .colab-df-convert:hover {\n",
              "      background-color: #E2EBFA;\n",
              "      box-shadow: 0px 1px 2px rgba(60, 64, 67, 0.3), 0px 1px 3px 1px rgba(60, 64, 67, 0.15);\n",
              "      fill: #174EA6;\n",
              "    }\n",
              "\n",
              "    [theme=dark] .colab-df-convert {\n",
              "      background-color: #3B4455;\n",
              "      fill: #D2E3FC;\n",
              "    }\n",
              "\n",
              "    [theme=dark] .colab-df-convert:hover {\n",
              "      background-color: #434B5C;\n",
              "      box-shadow: 0px 1px 3px 1px rgba(0, 0, 0, 0.15);\n",
              "      filter: drop-shadow(0px 1px 2px rgba(0, 0, 0, 0.3));\n",
              "      fill: #FFFFFF;\n",
              "    }\n",
              "  </style>\n",
              "\n",
              "      <script>\n",
              "        const buttonEl =\n",
              "          document.querySelector('#df-2d01d251-b7ae-43e7-a0d6-b02653899f02 button.colab-df-convert');\n",
              "        buttonEl.style.display =\n",
              "          google.colab.kernel.accessAllowed ? 'block' : 'none';\n",
              "\n",
              "        async function convertToInteractive(key) {\n",
              "          const element = document.querySelector('#df-2d01d251-b7ae-43e7-a0d6-b02653899f02');\n",
              "          const dataTable =\n",
              "            await google.colab.kernel.invokeFunction('convertToInteractive',\n",
              "                                                     [key], {});\n",
              "          if (!dataTable) return;\n",
              "\n",
              "          const docLinkHtml = 'Like what you see? Visit the ' +\n",
              "            '<a target=\"_blank\" href=https://colab.research.google.com/notebooks/data_table.ipynb>data table notebook</a>'\n",
              "            + ' to learn more about interactive tables.';\n",
              "          element.innerHTML = '';\n",
              "          dataTable['output_type'] = 'display_data';\n",
              "          await google.colab.output.renderOutput(dataTable, element);\n",
              "          const docLink = document.createElement('div');\n",
              "          docLink.innerHTML = docLinkHtml;\n",
              "          element.appendChild(docLink);\n",
              "        }\n",
              "      </script>\n",
              "    </div>\n",
              "  </div>\n"
            ]
          },
          "metadata": {},
          "execution_count": 43
        }
      ]
    },
    {
      "cell_type": "code",
      "source": [
        "model = joblib.load(\"model.joblib\")\n",
        "cv = joblib.load(\"cv.joblib\")"
      ],
      "metadata": {
        "id": "P4fzKNO9-mOU"
      },
      "execution_count": 73,
      "outputs": []
    },
    {
      "cell_type": "code",
      "source": [
        "modelos_features = cv.transform(df['titulo'].values)\n",
        "\n",
        "df['modelo'] = model.predict(modelos_features)"
      ],
      "metadata": {
        "id": "qFbO559biLTP"
      },
      "execution_count": 74,
      "outputs": []
    },
    {
      "cell_type": "code",
      "source": [
        "df.to_sql(\"vendas2\", engine, index=False, chunksize=500, if_exists = \"append\")"
      ],
      "metadata": {
        "id": "BpYgCImGyJh3",
        "collapsed": true,
        "outputId": "55649b2c-9e31-479d-ddb9-796d622987c3",
        "colab": {
          "base_uri": "https://localhost:8080/"
        }
      },
      "execution_count": 76,
      "outputs": [
        {
          "output_type": "execute_result",
          "data": {
            "text/plain": [
              "-2"
            ]
          },
          "metadata": {},
          "execution_count": 76
        }
      ]
    },
    {
      "cell_type": "code",
      "source": [],
      "metadata": {
        "id": "TeW3Uc4xiEVe"
      },
      "execution_count": null,
      "outputs": []
    }
  ]
}