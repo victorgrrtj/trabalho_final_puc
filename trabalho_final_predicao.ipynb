{
  "nbformat": 4,
  "nbformat_minor": 0,
  "metadata": {
    "colab": {
      "provenance": [],
      "authorship_tag": "ABX9TyP9OV/Z2Tspi4pNOB4RWpJV",
      "include_colab_link": true
    },
    "kernelspec": {
      "display_name": "Python 3",
      "name": "python3"
    },
    "language_info": {
      "name": "python"
    }
  },
  "cells": [
    {
      "cell_type": "markdown",
      "metadata": {
        "id": "view-in-github",
        "colab_type": "text"
      },
      "source": [
        "<a href=\"https://colab.research.google.com/github/victorgrrtj/trabalho_final_puc/blob/main/trabalho_final_predicao.ipynb\" target=\"_parent\"><img src=\"https://colab.research.google.com/assets/colab-badge.svg\" alt=\"Open In Colab\"/></a>"
      ]
    },
    {
      "cell_type": "markdown",
      "metadata": {
        "id": "5T9_JTLXrKYN"
      },
      "source": [
        "\n",
        "# Trabalho Final - Treinamento do Modelo Preditivo"
      ]
    },
    {
      "cell_type": "markdown",
      "metadata": {
        "id": "55fqYjJjrasB"
      },
      "source": [
        "## Importação de Bibliotecas"
      ]
    },
    {
      "cell_type": "code",
      "source": [
        "!cat /etc/os-release"
      ],
      "metadata": {
        "id": "BCVMqnkl2LNR",
        "collapsed": true,
        "outputId": "b0bce125-75e6-4d7f-d91e-0a6cd10a17f6",
        "colab": {
          "base_uri": "https://localhost:8080/"
        }
      },
      "execution_count": 1,
      "outputs": [
        {
          "output_type": "stream",
          "name": "stdout",
          "text": [
            "NAME=\"Ubuntu\"\n",
            "VERSION=\"20.04.5 LTS (Focal Fossa)\"\n",
            "ID=ubuntu\n",
            "ID_LIKE=debian\n",
            "PRETTY_NAME=\"Ubuntu 20.04.5 LTS\"\n",
            "VERSION_ID=\"20.04\"\n",
            "HOME_URL=\"https://www.ubuntu.com/\"\n",
            "SUPPORT_URL=\"https://help.ubuntu.com/\"\n",
            "BUG_REPORT_URL=\"https://bugs.launchpad.net/ubuntu/\"\n",
            "PRIVACY_POLICY_URL=\"https://www.ubuntu.com/legal/terms-and-policies/privacy-policy\"\n",
            "VERSION_CODENAME=focal\n",
            "UBUNTU_CODENAME=focal\n"
          ]
        }
      ]
    },
    {
      "cell_type": "code",
      "source": [
        "%%sh\n",
        "sudo su\n",
        "curl https://packages.microsoft.com/keys/microsoft.asc | apt-key add -\n",
        "\n",
        "curl https://packages.microsoft.com/config/ubuntu/$(lsb_release -rs)/prod.list > /etc/apt/sources.list.d/mssql-release.list\n",
        "\n",
        "exit\n",
        "sudo apt-get update\n",
        "sudo ACCEPT_EULA=Y apt-get install -y msodbcsql18\n",
        "\n",
        "# optional: for bcp and sqlcmd\n",
        "sudo ACCEPT_EULA=Y apt-get install -y mssql-tools18\n",
        "echo 'export PATH=\"$PATH:/opt/mssql-tools18/bin\"' >> ~/.bashrc\n",
        "source ~/.bashrc\n",
        "# optional: for unixODBC development headers\n",
        "sudo apt-get install -y unixodbc-dev"
      ],
      "metadata": {
        "id": "soVhw11x2VG_",
        "collapsed": true,
        "outputId": "5fdada2c-6233-401e-c492-314a47a856e8",
        "colab": {
          "base_uri": "https://localhost:8080/"
        }
      },
      "execution_count": 2,
      "outputs": [
        {
          "output_type": "stream",
          "name": "stdout",
          "text": [
            "OK\n"
          ]
        },
        {
          "output_type": "stream",
          "name": "stderr",
          "text": [
            "  % Total    % Received % Xferd  Average Speed   Time    Time     Time  Current\n",
            "                                 Dload  Upload   Total   Spent    Left  Speed\n",
            "\r  0     0    0     0    0     0      0      0 --:--:-- --:--:-- --:--:--     0\r100   983  100   983    0     0   7446      0 --:--:-- --:--:-- --:--:--  7446\n",
            "Warning: apt-key output should not be parsed (stdout is not a terminal)\n",
            "  % Total    % Received % Xferd  Average Speed   Time    Time     Time  Current\n",
            "                                 Dload  Upload   Total   Spent    Left  Speed\n",
            "\r  0     0    0     0    0     0      0      0 --:--:-- --:--:-- --:--:--     0\r100    89  100    89    0     0    526      0 --:--:-- --:--:-- --:--:--   526\n"
          ]
        }
      ]
    },
    {
      "cell_type": "code",
      "source": [
        "%%sh\n",
        "sudo apt-get update\n",
        "sudo ACCEPT_EULA=Y apt-get install -y msodbcsql17\n",
        "# optional: for bcp and sqlcmd\n",
        "sudo ACCEPT_EULA=Y apt-get install -y mssql-tools\n",
        "echo 'export PATH=\"$PATH:/opt/mssql-tools/bin\"' >> ~/.bashrc\n",
        "source ~/.bashrc\n",
        "# optional: for unixODBC development headers\n",
        "sudo apt-get install -y unixodbc-dev"
      ],
      "metadata": {
        "id": "OLDwQ40Y287-",
        "collapsed": true,
        "outputId": "c072c523-3e98-4d0b-a91e-7a3a8d55c7c3",
        "colab": {
          "base_uri": "https://localhost:8080/"
        }
      },
      "execution_count": 3,
      "outputs": [
        {
          "output_type": "stream",
          "name": "stdout",
          "text": [
            "Get:1 https://cloud.r-project.org/bin/linux/ubuntu focal-cran40/ InRelease [3,622 B]\n",
            "Hit:2 https://developer.download.nvidia.com/compute/cuda/repos/ubuntu2004/x86_64  InRelease\n",
            "Get:3 https://packages.microsoft.com/ubuntu/20.04/prod focal InRelease [3,611 B]\n",
            "Get:4 http://security.ubuntu.com/ubuntu focal-security InRelease [114 kB]\n",
            "Hit:5 http://archive.ubuntu.com/ubuntu focal InRelease\n",
            "Get:6 http://archive.ubuntu.com/ubuntu focal-updates InRelease [114 kB]\n",
            "Hit:7 http://ppa.launchpad.net/c2d4u.team/c2d4u4.0+/ubuntu focal InRelease\n",
            "Get:8 http://archive.ubuntu.com/ubuntu focal-backports InRelease [108 kB]\n",
            "Hit:9 http://ppa.launchpad.net/cran/libgit2/ubuntu focal InRelease\n",
            "Hit:10 http://ppa.launchpad.net/deadsnakes/ppa/ubuntu focal InRelease\n",
            "Hit:11 http://ppa.launchpad.net/graphics-drivers/ppa/ubuntu focal InRelease\n",
            "Hit:12 http://ppa.launchpad.net/ubuntugis/ppa/ubuntu focal InRelease\n",
            "Get:13 https://packages.microsoft.com/ubuntu/20.04/prod focal/main amd64 Packages [200 kB]\n",
            "Get:14 https://packages.microsoft.com/ubuntu/20.04/prod focal/main armhf Packages [14.4 kB]\n",
            "Get:15 https://packages.microsoft.com/ubuntu/20.04/prod focal/main all Packages [2,521 B]\n",
            "Get:16 https://packages.microsoft.com/ubuntu/20.04/prod focal/main arm64 Packages [40.7 kB]\n",
            "Get:17 http://archive.ubuntu.com/ubuntu focal-updates/universe amd64 Packages [1,344 kB]\n",
            "Get:18 http://archive.ubuntu.com/ubuntu focal-updates/main amd64 Packages [3,175 kB]\n",
            "Get:19 http://security.ubuntu.com/ubuntu focal-security/universe amd64 Packages [1,049 kB]\n",
            "Get:20 http://security.ubuntu.com/ubuntu focal-security/main amd64 Packages [2,699 kB]\n",
            "Get:21 http://security.ubuntu.com/ubuntu focal-security/restricted amd64 Packages [2,240 kB]\n",
            "Fetched 11.1 MB in 6s (1,750 kB/s)\n",
            "Reading package lists...\n",
            "Reading package lists...\n",
            "Building dependency tree...\n",
            "Reading state information...\n",
            "The following additional packages will be installed:\n",
            "  libodbc1 odbcinst odbcinst1debian2 unixodbc unixodbc-dev\n",
            "Suggested packages:\n",
            "  unixodbc-bin\n",
            "The following NEW packages will be installed:\n",
            "  msodbcsql17 unixodbc\n",
            "The following packages will be upgraded:\n",
            "  libodbc1 odbcinst odbcinst1debian2 unixodbc-dev\n",
            "4 upgraded, 2 newly installed, 0 to remove and 27 not upgraded.\n",
            "Need to get 1,445 kB of archives.\n",
            "After this operation, 2,048 B of additional disk space will be used.\n",
            "Get:1 https://packages.microsoft.com/ubuntu/20.04/prod focal/main amd64 odbcinst amd64 2.3.11-1 [21.3 kB]\n",
            "Get:2 https://packages.microsoft.com/ubuntu/20.04/prod focal/main amd64 unixodbc-dev amd64 2.3.11-1 [42.4 kB]\n",
            "Get:3 https://packages.microsoft.com/ubuntu/20.04/prod focal/main amd64 odbcinst1debian2 amd64 2.3.11-1 [99.8 kB]\n",
            "Get:4 https://packages.microsoft.com/ubuntu/20.04/prod focal/main amd64 libodbc1 amd64 2.3.11-1 [486 kB]\n",
            "Get:5 https://packages.microsoft.com/ubuntu/20.04/prod focal/main amd64 unixodbc amd64 2.3.11-1 [51.5 kB]\n",
            "Get:6 https://packages.microsoft.com/ubuntu/20.04/prod focal/main amd64 msodbcsql17 amd64 17.10.2.1-1 [745 kB]\n",
            "Fetched 1,445 kB in 0s (6,473 kB/s)\n",
            "(Reading database ... \r(Reading database ... 5%\r(Reading database ... 10%\r(Reading database ... 15%\r(Reading database ... 20%\r(Reading database ... 25%\r(Reading database ... 30%\r(Reading database ... 35%\r(Reading database ... 40%\r(Reading database ... 45%\r(Reading database ... 50%\r(Reading database ... 55%\r(Reading database ... 60%\r(Reading database ... 65%\r(Reading database ... 70%\r(Reading database ... 75%\r(Reading database ... 80%\r(Reading database ... 85%\r(Reading database ... 90%\r(Reading database ... 95%\r(Reading database ... 100%\r(Reading database ... 122531 files and directories currently installed.)\r\n",
            "Preparing to unpack .../0-odbcinst_2.3.11-1_amd64.deb ...\r\n",
            "Unpacking odbcinst (2.3.11-1) over (2.3.6-0.1build1) ...\r\n",
            "Preparing to unpack .../1-unixodbc-dev_2.3.11-1_amd64.deb ...\r\n",
            "Unpacking unixodbc-dev (2.3.11-1) over (2.3.6-0.1build1) ...\r\n",
            "Preparing to unpack .../2-odbcinst1debian2_2.3.11-1_amd64.deb ...\r\n",
            "Unpacking odbcinst1debian2:amd64 (2.3.11-1) over (2.3.6-0.1build1) ...\r\n",
            "Preparing to unpack .../3-libodbc1_2.3.11-1_amd64.deb ...\r\n",
            "Unpacking libodbc1:amd64 (2.3.11-1) over (2.3.6-0.1build1) ...\r\n",
            "Selecting previously unselected package unixodbc.\r\n",
            "Preparing to unpack .../4-unixodbc_2.3.11-1_amd64.deb ...\r\n",
            "Unpacking unixodbc (2.3.11-1) ...\r\n",
            "Selecting previously unselected package msodbcsql17.\r\n",
            "Preparing to unpack .../5-msodbcsql17_17.10.2.1-1_amd64.deb ...\r\n",
            "debconf: unable to initialize frontend: Dialog\r\n",
            "debconf: (No usable dialog-like program is installed, so the dialog based frontend cannot be used. at /usr/share/perl5/Debconf/FrontEnd/Dialog.pm line 76.)\r\n",
            "debconf: falling back to frontend: Readline\r\n",
            "Unpacking msodbcsql17 (17.10.2.1-1) ...\r\n",
            "Setting up libodbc1:amd64 (2.3.11-1) ...\r\n",
            "Setting up odbcinst1debian2:amd64 (2.3.11-1) ...\r\n",
            "Setting up odbcinst (2.3.11-1) ...\r\n",
            "Setting up unixodbc (2.3.11-1) ...\r\n",
            "Setting up msodbcsql17 (17.10.2.1-1) ...\r\n",
            "odbcinst: Driver installed. Usage count increased to 1. \r\n",
            "    Target directory is /etc\r\n",
            "Setting up unixodbc-dev (2.3.11-1) ...\r\n",
            "Processing triggers for libc-bin (2.31-0ubuntu9.9) ...\r\n",
            "Processing triggers for man-db (2.9.1-1) ...\r\n",
            "Reading package lists...\n",
            "Building dependency tree...\n",
            "Reading state information...\n",
            "The following NEW packages will be installed:\n",
            "  mssql-tools\n",
            "0 upgraded, 1 newly installed, 0 to remove and 27 not upgraded.\n",
            "Need to get 211 kB of archives.\n",
            "After this operation, 0 B of additional disk space will be used.\n",
            "Get:1 https://packages.microsoft.com/ubuntu/20.04/prod focal/main amd64 mssql-tools amd64 17.10.1.1-1 [211 kB]\n",
            "Fetched 211 kB in 0s (1,466 kB/s)\n",
            "Selecting previously unselected package mssql-tools.\r\n",
            "(Reading database ... \r(Reading database ... 5%\r(Reading database ... 10%\r(Reading database ... 15%\r(Reading database ... 20%\r(Reading database ... 25%\r(Reading database ... 30%\r(Reading database ... 35%\r(Reading database ... 40%\r(Reading database ... 45%\r(Reading database ... 50%\r(Reading database ... 55%\r(Reading database ... 60%\r(Reading database ... 65%\r(Reading database ... 70%\r(Reading database ... 75%\r(Reading database ... 80%\r(Reading database ... 85%\r(Reading database ... 90%\r(Reading database ... 95%\r(Reading database ... 100%\r(Reading database ... 122537 files and directories currently installed.)\r\n",
            "Preparing to unpack .../mssql-tools_17.10.1.1-1_amd64.deb ...\r\n",
            "Unpacking mssql-tools (17.10.1.1-1) ...\r\n",
            "Setting up mssql-tools (17.10.1.1-1) ...\r\n",
            "debconf: unable to initialize frontend: Dialog\r\n",
            "debconf: (No usable dialog-like program is installed, so the dialog based frontend cannot be used. at /usr/share/perl5/Debconf/FrontEnd/Dialog.pm line 76.)\r\n",
            "debconf: falling back to frontend: Readline\r\n",
            "Reading package lists...\n",
            "Building dependency tree...\n",
            "Reading state information...\n",
            "unixodbc-dev is already the newest version (2.3.11-1).\n",
            "unixodbc-dev set to manually installed.\n",
            "0 upgraded, 0 newly installed, 0 to remove and 27 not upgraded.\n"
          ]
        },
        {
          "output_type": "stream",
          "name": "stderr",
          "text": [
            "debconf: unable to initialize frontend: Dialog\n",
            "debconf: (No usable dialog-like program is installed, so the dialog based frontend cannot be used. at /usr/share/perl5/Debconf/FrontEnd/Dialog.pm line 76, <> line 6.)\n",
            "debconf: falling back to frontend: Readline\n",
            "debconf: unable to initialize frontend: Readline\n",
            "debconf: (This frontend requires a controlling tty.)\n",
            "debconf: falling back to frontend: Teletype\n",
            "dpkg-preconfigure: unable to re-open stdin: \n",
            "debconf: unable to initialize frontend: Dialog\n",
            "debconf: (No usable dialog-like program is installed, so the dialog based frontend cannot be used. at /usr/share/perl5/Debconf/FrontEnd/Dialog.pm line 76, <> line 1.)\n",
            "debconf: falling back to frontend: Readline\n",
            "debconf: unable to initialize frontend: Readline\n",
            "debconf: (This frontend requires a controlling tty.)\n",
            "debconf: falling back to frontend: Teletype\n",
            "dpkg-preconfigure: unable to re-open stdin: \n",
            "sh: 6: source: not found\n"
          ]
        }
      ]
    },
    {
      "cell_type": "code",
      "source": [
        "!sudo apt-get install unixodbc-dev"
      ],
      "metadata": {
        "id": "FN8QQUTD3Wl6",
        "collapsed": true,
        "outputId": "5e572326-0b8a-48bf-ecf6-d22cd71be54c",
        "colab": {
          "base_uri": "https://localhost:8080/"
        }
      },
      "execution_count": 4,
      "outputs": [
        {
          "output_type": "stream",
          "name": "stdout",
          "text": [
            "Reading package lists... Done\n",
            "Building dependency tree       \n",
            "Reading state information... Done\n",
            "unixodbc-dev is already the newest version (2.3.11-1).\n",
            "0 upgraded, 0 newly installed, 0 to remove and 27 not upgraded.\n"
          ]
        }
      ]
    },
    {
      "cell_type": "code",
      "source": [
        "!pip install pyodbc\n",
        "!pip install chart_studio"
      ],
      "metadata": {
        "id": "3qssSVrw3dCk",
        "collapsed": true,
        "outputId": "65626810-af41-4d77-c25e-8bd09736b2b4",
        "colab": {
          "base_uri": "https://localhost:8080/"
        }
      },
      "execution_count": 5,
      "outputs": [
        {
          "output_type": "stream",
          "name": "stdout",
          "text": [
            "Looking in indexes: https://pypi.org/simple, https://us-python.pkg.dev/colab-wheels/public/simple/\n",
            "Collecting pyodbc\n",
            "  Downloading pyodbc-4.0.39-cp310-cp310-manylinux_2_17_x86_64.manylinux2014_x86_64.whl (343 kB)\n",
            "\u001b[2K     \u001b[90m━━━━━━━━━━━━━━━━━━━━━━━━━━━━━━━━━━━━━━━\u001b[0m \u001b[32m343.5/343.5 kB\u001b[0m \u001b[31m8.8 MB/s\u001b[0m eta \u001b[36m0:00:00\u001b[0m\n",
            "\u001b[?25hInstalling collected packages: pyodbc\n",
            "Successfully installed pyodbc-4.0.39\n",
            "Looking in indexes: https://pypi.org/simple, https://us-python.pkg.dev/colab-wheels/public/simple/\n",
            "Collecting chart_studio\n",
            "  Downloading chart_studio-1.1.0-py3-none-any.whl (64 kB)\n",
            "\u001b[2K     \u001b[90m━━━━━━━━━━━━━━━━━━━━━━━━━━━━━━━━━━━━━━━━\u001b[0m \u001b[32m64.4/64.4 kB\u001b[0m \u001b[31m2.7 MB/s\u001b[0m eta \u001b[36m0:00:00\u001b[0m\n",
            "\u001b[?25hRequirement already satisfied: plotly in /usr/local/lib/python3.10/dist-packages (from chart_studio) (5.13.1)\n",
            "Requirement already satisfied: requests in /usr/local/lib/python3.10/dist-packages (from chart_studio) (2.27.1)\n",
            "Collecting retrying>=1.3.3 (from chart_studio)\n",
            "  Downloading retrying-1.3.4-py3-none-any.whl (11 kB)\n",
            "Requirement already satisfied: six in /usr/local/lib/python3.10/dist-packages (from chart_studio) (1.16.0)\n",
            "Requirement already satisfied: tenacity>=6.2.0 in /usr/local/lib/python3.10/dist-packages (from plotly->chart_studio) (8.2.2)\n",
            "Requirement already satisfied: urllib3<1.27,>=1.21.1 in /usr/local/lib/python3.10/dist-packages (from requests->chart_studio) (1.26.15)\n",
            "Requirement already satisfied: certifi>=2017.4.17 in /usr/local/lib/python3.10/dist-packages (from requests->chart_studio) (2022.12.7)\n",
            "Requirement already satisfied: charset-normalizer~=2.0.0 in /usr/local/lib/python3.10/dist-packages (from requests->chart_studio) (2.0.12)\n",
            "Requirement already satisfied: idna<4,>=2.5 in /usr/local/lib/python3.10/dist-packages (from requests->chart_studio) (3.4)\n",
            "Installing collected packages: retrying, chart_studio\n",
            "Successfully installed chart_studio-1.1.0 retrying-1.3.4\n"
          ]
        }
      ]
    },
    {
      "cell_type": "code",
      "source": [
        "!pip install unidecode"
      ],
      "metadata": {
        "id": "9Esa-5hncQFV",
        "collapsed": true,
        "outputId": "1080887b-10bc-42ac-9588-e018bbf4636e",
        "colab": {
          "base_uri": "https://localhost:8080/"
        }
      },
      "execution_count": 6,
      "outputs": [
        {
          "output_type": "stream",
          "name": "stdout",
          "text": [
            "Looking in indexes: https://pypi.org/simple, https://us-python.pkg.dev/colab-wheels/public/simple/\n",
            "Collecting unidecode\n",
            "  Downloading Unidecode-1.3.6-py3-none-any.whl (235 kB)\n",
            "\u001b[2K     \u001b[90m━━━━━━━━━━━━━━━━━━━━━━━━━━━━━━━━━━━━━━━\u001b[0m \u001b[32m235.9/235.9 kB\u001b[0m \u001b[31m7.4 MB/s\u001b[0m eta \u001b[36m0:00:00\u001b[0m\n",
            "\u001b[?25hInstalling collected packages: unidecode\n",
            "Successfully installed unidecode-1.3.6\n"
          ]
        }
      ]
    },
    {
      "cell_type": "code",
      "source": [
        "!pip install pymysql"
      ],
      "metadata": {
        "id": "xmhgNrlKyngR",
        "collapsed": true,
        "outputId": "b227418f-4549-4913-da84-f16cc4d0778a",
        "colab": {
          "base_uri": "https://localhost:8080/"
        }
      },
      "execution_count": 7,
      "outputs": [
        {
          "output_type": "stream",
          "name": "stdout",
          "text": [
            "Looking in indexes: https://pypi.org/simple, https://us-python.pkg.dev/colab-wheels/public/simple/\n",
            "Collecting pymysql\n",
            "  Downloading PyMySQL-1.0.3-py3-none-any.whl (43 kB)\n",
            "\u001b[2K     \u001b[90m━━━━━━━━━━━━━━━━━━━━━━━━━━━━━━━━━━━━━━━━\u001b[0m \u001b[32m43.7/43.7 kB\u001b[0m \u001b[31m4.2 MB/s\u001b[0m eta \u001b[36m0:00:00\u001b[0m\n",
            "\u001b[?25hInstalling collected packages: pymysql\n",
            "Successfully installed pymysql-1.0.3\n"
          ]
        }
      ]
    },
    {
      "cell_type": "code",
      "metadata": {
        "id": "9aWsgUxLRRwk"
      },
      "source": [
        "# Importação das bibliotecas\n",
        "import requests\n",
        "import unidecode\n",
        "import pandas as pd\n",
        "import math\n",
        "import time\n",
        "import random\n",
        "import sqlalchemy\n",
        "from sqlalchemy import create_engine\n",
        "import pymysql\n",
        "import pyodbc\n",
        "import joblib\n",
        "import datetime as dt\n",
        "import pytz\n",
        "headers = {\n",
        "    'Authorization': 'Bearer $ACCESS_TOKEN',\n",
        "}"
      ],
      "execution_count": 8,
      "outputs": []
    },
    {
      "cell_type": "code",
      "source": [
        "user = 'adminskyblue'\n",
        "pw = input('Digite a senha: ')\n",
        "server = 'skyblue.database.windows.net'\n",
        "database = 'skyblue'\n",
        "\n",
        "\n",
        "engine = sqlalchemy.create_engine(\n",
        "    \"mssql+pyodbc://\"+user+\":\"+pw+\"@\"+server+\"/\"+database+\"?driver=ODBC+Driver+17+for+SQL+Server\",\n",
        "    fast_executemany=True\n",
        ")"
      ],
      "metadata": {
        "id": "hyr0NnKN3ul7"
      },
      "execution_count": null,
      "outputs": []
    },
    {
      "cell_type": "markdown",
      "metadata": {
        "id": "rQU3oTeEtZxC"
      },
      "source": [
        "## Sumarização de todas as extrações."
      ]
    },
    {
      "cell_type": "code",
      "metadata": {
        "id": "v8PdWveGW6XS",
        "collapsed": true,
        "outputId": "5f750fca-ef46-420e-d7af-4953b80c8ac7",
        "colab": {
          "base_uri": "https://localhost:8080/"
        }
      },
      "source": [
        "\"\"\" Contém looping para todas as páginas.\n",
        "Retorna um dicionário com as informações de cada imóvel.\n",
        "Devido à quantidade de páginas, este processo pode demorar mais de 30 minutos.\"\"\"\n",
        "\n",
        "headers = {\n",
        "    'Authorization': 'Bearer $ACCESS_TOKEN',\n",
        "}\n",
        "\n",
        "offset = 0\n",
        "pag_inicial = 'https://api.mercadolibre.com/sites/MLB/search?q=Iphone%2014&offset='+str(offset)\n",
        "\n",
        "response = requests.get(\n",
        "  pag_inicial,\n",
        "  headers=headers)\n",
        "json = response.json()\n",
        "qtd_pag = round(json['paging']['total']/50)\n",
        "qtd_itens = json['paging']['total']\n",
        "\n",
        "print(\"Foram encontradas {} páginas e {} produtos.\".format(qtd_pag, qtd_itens))\n",
        "\n",
        "offset = 0\n",
        "url_list = [pag_inicial]\n",
        "for page in range(qtd_pag):\n",
        "  offset += 50\n",
        "  prox_pagina = 'https://api.mercadolibre.com/sites/MLB/search?q=Iphone%2014&offset='+str(offset)\n",
        "  url_list.append(prox_pagina)\n",
        "\n",
        "extracted_data = []\n",
        "\n",
        "for index, url in enumerate(url_list):\n",
        "  response = requests.get(\n",
        "      url,\n",
        "      headers=headers)\n",
        "  print(\"Codigo de resposta da pagina {}: {}\".format(url, response.status_code))\n",
        "\n",
        "  json = response.json()\n",
        "  results = json['results']\n",
        "  time.sleep(random.randint(2,6))\n",
        "\n",
        "  for item in results:\n",
        "    product_dict = {}\n",
        "    product_dict['id'] = item.get('id')\n",
        "    product_dict['titulo'] = item.get('title')\n",
        "    product_dict['condicao'] = item.get('condition')\n",
        "    product_dict['link'] = item.get('permalink')\n",
        "    product_dict['preco'] = item.get('price')\n",
        "    for attribute in item.get('attributes'):\n",
        "      if attribute.get('name') == 'Marca':\n",
        "        product_dict['marca'] = attribute.get('value_name')\n",
        "      elif attribute.get('name') == 'Linha':\n",
        "        product_dict['linha'] = attribute.get('value_name')\n",
        "      elif attribute.get('name') == 'Modelo':\n",
        "        product_dict['modelo'] = attribute.get('value_name')\n",
        "    product_dict['nome_vendedor'] = item.get('seller').get('nickname')\n",
        "    product_dict['nvl_vendedor'] = item.get('seller').get('seller_reputation').get('level_id')\n",
        "    product_dict['vendas_concluidas'] = item.get('seller').get('seller_reputation').get('transactions').get('completed')\n",
        "    product_dict['qtd_avaliacoes'] = item.get('seller').get('seller_reputation').get('transactions').get('total')\n",
        "    product_dict['avlc_pos'] = item.get('seller').get('seller_reputation').get('transactions').get('ratings').get('positive')\n",
        "    product_dict['avlc_neut'] = item.get('seller').get('seller_reputation').get('transactions').get('ratings').get('neutral')\n",
        "    product_dict['avlc_neg'] = item.get('seller').get('seller_reputation').get('transactions').get('ratings').get('negative')\n",
        "    extracted_data.append(product_dict)\n",
        "\n",
        "  print('Finished page ' + str(index + 1))\n",
        "print('Finished all pages')"
      ],
      "execution_count": 10,
      "outputs": [
        {
          "output_type": "stream",
          "name": "stdout",
          "text": [
            "Foram encontradas 17 páginas e 838 produtos.\n",
            "Codigo de resposta da pagina https://api.mercadolibre.com/sites/MLB/search?q=Iphone%2014&offset=0: 200\n",
            "Finished page 1\n",
            "Codigo de resposta da pagina https://api.mercadolibre.com/sites/MLB/search?q=Iphone%2014&offset=50: 200\n",
            "Finished page 2\n",
            "Codigo de resposta da pagina https://api.mercadolibre.com/sites/MLB/search?q=Iphone%2014&offset=100: 200\n",
            "Finished page 3\n",
            "Codigo de resposta da pagina https://api.mercadolibre.com/sites/MLB/search?q=Iphone%2014&offset=150: 200\n",
            "Finished page 4\n",
            "Codigo de resposta da pagina https://api.mercadolibre.com/sites/MLB/search?q=Iphone%2014&offset=200: 200\n",
            "Finished page 5\n",
            "Codigo de resposta da pagina https://api.mercadolibre.com/sites/MLB/search?q=Iphone%2014&offset=250: 200\n",
            "Finished page 6\n",
            "Codigo de resposta da pagina https://api.mercadolibre.com/sites/MLB/search?q=Iphone%2014&offset=300: 200\n",
            "Finished page 7\n",
            "Codigo de resposta da pagina https://api.mercadolibre.com/sites/MLB/search?q=Iphone%2014&offset=350: 200\n",
            "Finished page 8\n",
            "Codigo de resposta da pagina https://api.mercadolibre.com/sites/MLB/search?q=Iphone%2014&offset=400: 200\n",
            "Finished page 9\n",
            "Codigo de resposta da pagina https://api.mercadolibre.com/sites/MLB/search?q=Iphone%2014&offset=450: 200\n",
            "Finished page 10\n",
            "Codigo de resposta da pagina https://api.mercadolibre.com/sites/MLB/search?q=Iphone%2014&offset=500: 200\n",
            "Finished page 11\n",
            "Codigo de resposta da pagina https://api.mercadolibre.com/sites/MLB/search?q=Iphone%2014&offset=550: 200\n",
            "Finished page 12\n",
            "Codigo de resposta da pagina https://api.mercadolibre.com/sites/MLB/search?q=Iphone%2014&offset=600: 200\n",
            "Finished page 13\n",
            "Codigo de resposta da pagina https://api.mercadolibre.com/sites/MLB/search?q=Iphone%2014&offset=650: 200\n",
            "Finished page 14\n",
            "Codigo de resposta da pagina https://api.mercadolibre.com/sites/MLB/search?q=Iphone%2014&offset=700: 200\n",
            "Finished page 15\n",
            "Codigo de resposta da pagina https://api.mercadolibre.com/sites/MLB/search?q=Iphone%2014&offset=750: 200\n",
            "Finished page 16\n",
            "Codigo de resposta da pagina https://api.mercadolibre.com/sites/MLB/search?q=Iphone%2014&offset=800: 200\n",
            "Finished page 17\n",
            "Codigo de resposta da pagina https://api.mercadolibre.com/sites/MLB/search?q=Iphone%2014&offset=850: 200\n",
            "Finished page 18\n",
            "Finished all pages\n"
          ]
        }
      ]
    },
    {
      "cell_type": "code",
      "source": [
        "df = pd.json_normalize(extracted_data)\n",
        "df['ts_carga'] = str(dt.datetime.now(pytz.timezone('Etc/GMT+3')).strftime('%d-%m-%Y %X'))"
      ],
      "metadata": {
        "id": "HOIttuxVsjNA"
      },
      "execution_count": 39,
      "outputs": []
    },
    {
      "cell_type": "code",
      "source": [
        "df.drop(df.index[df['modelo'] == 'iPhone'], inplace=True)\n",
        "df.drop(df.index[df['modelo'] == 'iPhone 7'], inplace=True)\n",
        "df.drop(df.index[df['modelo'] == 'iPhone 7 Plus'], inplace=True)\n",
        "df.drop(df.index[df['modelo'] == 'iPhone 12 Pro'], inplace=True)\n",
        "df.drop(df.index[df['modelo'] == 'iPhones 8 ao 14'], inplace=True)\n",
        "df.drop(df.index[df['modelo'] == 'iPhone 11'], inplace=True)\n",
        "df.drop(df.index[df['modelo'] == 'iPhone 11 Pro'], inplace=True)\n",
        "df.drop(df.index[df['modelo'] == 'iPhone 11 Pro Max'], inplace=True)\n",
        "df.drop(df.index[df['modelo'] == 'iPhone 13'], inplace=True)\n",
        "df.drop(df.index[df['modelo'] == 'iPhone 13 Pro'], inplace=True)\n",
        "df.drop(df.index[df['modelo'] == 'iPhone 13 Pro Max'], inplace=True)\n",
        "df.drop(df.index[df['titulo'].str.contains('iphone', case=False) == False], inplace=True)\n",
        "df.drop(df.index[df['titulo'].str.contains('14', case=False) == False], inplace=True)\n",
        "df.reset_index(inplace=True, drop=True)"
      ],
      "metadata": {
        "id": "93-1vJZYVoBZ"
      },
      "execution_count": 40,
      "outputs": []
    },
    {
      "cell_type": "code",
      "source": [
        "df['titulo'] = df['titulo'].apply(lambda x: unidecode.unidecode(x))"
      ],
      "metadata": {
        "id": "h27xoubKb2MM"
      },
      "execution_count": 41,
      "outputs": []
    },
    {
      "cell_type": "code",
      "source": [
        "model = joblib.load(\"model.joblib\")\n",
        "cv = joblib.load(\"cv.joblib\")"
      ],
      "metadata": {
        "id": "P4fzKNO9-mOU"
      },
      "execution_count": 42,
      "outputs": []
    },
    {
      "cell_type": "code",
      "source": [
        "modelos_features = cv.transform(df['titulo'].values)\n",
        "\n",
        "df['modelo'] = model.predict(modelos_features)"
      ],
      "metadata": {
        "id": "qFbO559biLTP"
      },
      "execution_count": 43,
      "outputs": []
    },
    {
      "cell_type": "code",
      "source": [
        "df.to_sql(\"vendas\", engine, index=False, chunksize=500, if_exists = \"append\")"
      ],
      "metadata": {
        "id": "BpYgCImGyJh3",
        "collapsed": true,
        "outputId": "60924600-7d06-4303-8a58-2617b66d01a4",
        "colab": {
          "base_uri": "https://localhost:8080/"
        }
      },
      "execution_count": 44,
      "outputs": [
        {
          "output_type": "execute_result",
          "data": {
            "text/plain": [
              "-2"
            ]
          },
          "metadata": {},
          "execution_count": 44
        }
      ]
    },
    {
      "cell_type": "code",
      "source": [],
      "metadata": {
        "id": "TeW3Uc4xiEVe"
      },
      "execution_count": null,
      "outputs": []
    }
  ]
}