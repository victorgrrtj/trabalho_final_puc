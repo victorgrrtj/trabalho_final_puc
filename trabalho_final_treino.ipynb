{
  "nbformat": 4,
  "nbformat_minor": 0,
  "metadata": {
    "colab": {
      "provenance": [],
      "authorship_tag": "ABX9TyMbhSIf1FEqgAZbPYZpQBFj",
      "include_colab_link": true
    },
    "kernelspec": {
      "display_name": "Python 3",
      "name": "python3"
    },
    "language_info": {
      "name": "python"
    }
  },
  "cells": [
    {
      "cell_type": "markdown",
      "metadata": {
        "id": "view-in-github",
        "colab_type": "text"
      },
      "source": [
        "<a href=\"https://colab.research.google.com/github/victorgrrtj/trabalho_final_puc/blob/main/trabalho_final_treino.ipynb\" target=\"_parent\"><img src=\"https://colab.research.google.com/assets/colab-badge.svg\" alt=\"Open In Colab\"/></a>"
      ]
    },
    {
      "cell_type": "markdown",
      "metadata": {
        "id": "5T9_JTLXrKYN"
      },
      "source": [
        "\n",
        "# Trabalho Final - Treinamento do Modelo Preditivo"
      ]
    },
    {
      "cell_type": "markdown",
      "metadata": {
        "id": "55fqYjJjrasB"
      },
      "source": [
        "## Importação de Bibliotecas"
      ]
    },
    {
      "cell_type": "code",
      "metadata": {
        "id": "9aWsgUxLRRwk"
      },
      "source": [
        "# Importação das bibliotecas\n",
        "import requests\n",
        "import pandas as pd\n",
        "import re\n",
        "from IPython.display import HTML\n",
        "import math\n",
        "import time\n",
        "import random\n",
        "import datetime\n",
        "import joblib\n",
        "from sklearn.model_selection import train_test_split\n",
        "from imblearn.over_sampling import RandomOverSampler\n",
        "from sklearn import metrics\n",
        "from sklearn.feature_extraction.text import CountVectorizer\n",
        "from sklearn.ensemble import RandomForestClassifier\n",
        "import numpy as np\n",
        "headers = {\n",
        "    'Authorization': 'Bearer $ACCESS_TOKEN',\n",
        "}"
      ],
      "execution_count": 1,
      "outputs": []
    },
    {
      "cell_type": "markdown",
      "metadata": {
        "id": "rQU3oTeEtZxC"
      },
      "source": [
        "## Sumarização de todas as extrações."
      ]
    },
    {
      "cell_type": "code",
      "metadata": {
        "id": "v8PdWveGW6XS",
        "colab": {
          "base_uri": "https://localhost:8080/"
        },
        "outputId": "87861a4d-2240-4f27-b2db-570e029f9a74"
      },
      "source": [
        "\"\"\" Contém looping para todas as páginas.\n",
        "Retorna um dicionário com as informações de cada imóvel.\n",
        "Devido à quantidade de páginas, este processo pode demorar mais de 30 minutos.\"\"\"\n",
        "\n",
        "headers = {\n",
        "    'Authorization': 'Bearer $ACCESS_TOKEN',\n",
        "}\n",
        "\n",
        "offset = 0\n",
        "pag_inicial = 'https://api.mercadolibre.com/sites/MLB/search?q=Iphone%2014&offset='+str(offset)\n",
        "\n",
        "response = requests.get(\n",
        "  pag_inicial,\n",
        "  headers=headers)\n",
        "json = response.json()\n",
        "qtd_pag = round(json['paging']['total']/50)\n",
        "qtd_itens = json['paging']['total']\n",
        "\n",
        "print(\"Foram encontradas {} páginas e {} produtos.\".format(qtd_pag, qtd_itens))\n",
        "\n",
        "offset = 0\n",
        "url_list = [pag_inicial]\n",
        "for page in range(qtd_pag):\n",
        "  offset += 50\n",
        "  prox_pagina = 'https://api.mercadolibre.com/sites/MLB/search?q=Iphone%2014&offset='+str(offset)\n",
        "  url_list.append(prox_pagina)\n",
        "\n",
        "extracted_data = []\n",
        "\n",
        "for index, url in enumerate(url_list):\n",
        "  response = requests.get(\n",
        "      url,\n",
        "      headers=headers)\n",
        "  print(\"Codigo de resposta da pagina {}: {}\".format(url, response.status_code))\n",
        "\n",
        "  json = response.json()\n",
        "  results = json['results']\n",
        "  time.sleep(random.randint(2,6))\n",
        "\n",
        "  for item in results:\n",
        "    product_dict = {}\n",
        "    product_dict['id'] = item.get('id')\n",
        "    product_dict['titulo'] = item.get('title')\n",
        "    product_dict['condicao'] = item.get('condition')\n",
        "    product_dict['link'] = item.get('permalink')\n",
        "    product_dict['preco'] = item.get('price')\n",
        "    for attribute in item.get('attributes'):\n",
        "      if attribute.get('name') == 'Marca':\n",
        "        product_dict['marca'] = attribute.get('value_name')\n",
        "      elif attribute.get('name') == 'Linha':\n",
        "        product_dict['linha'] = attribute.get('value_name')\n",
        "      elif attribute.get('name') == 'Modelo':\n",
        "        product_dict['modelo'] = attribute.get('value_name')\n",
        "    product_dict['nome_vendedor'] = item.get('seller').get('nickname')\n",
        "    product_dict['nvl_vendedor'] = item.get('seller').get('seller_reputation').get('level_id')\n",
        "    product_dict['vendas_concluidas'] = item.get('seller').get('seller_reputation').get('transactions').get('completed')\n",
        "    product_dict['qtd_avaliacoes'] = item.get('seller').get('seller_reputation').get('transactions').get('total')\n",
        "    product_dict['avlc_pos'] = item.get('seller').get('seller_reputation').get('transactions').get('ratings').get('positive')\n",
        "    product_dict['avlc_neut'] = item.get('seller').get('seller_reputation').get('transactions').get('ratings').get('neutral')\n",
        "    product_dict['avlc_neg'] = item.get('seller').get('seller_reputation').get('transactions').get('ratings').get('negative')\n",
        "    extracted_data.append(product_dict)\n",
        "\n",
        "  print('Finished page ' + str(index + 1))\n",
        "print('Finished all pages')"
      ],
      "execution_count": 2,
      "outputs": [
        {
          "output_type": "stream",
          "name": "stdout",
          "text": [
            "Foram encontradas 16 páginas e 821 produtos.\n",
            "Codigo de resposta da pagina https://api.mercadolibre.com/sites/MLB/search?q=Iphone%2014&offset=0: 200\n",
            "Finished page 1\n",
            "Codigo de resposta da pagina https://api.mercadolibre.com/sites/MLB/search?q=Iphone%2014&offset=50: 200\n",
            "Finished page 2\n",
            "Codigo de resposta da pagina https://api.mercadolibre.com/sites/MLB/search?q=Iphone%2014&offset=100: 200\n",
            "Finished page 3\n",
            "Codigo de resposta da pagina https://api.mercadolibre.com/sites/MLB/search?q=Iphone%2014&offset=150: 200\n",
            "Finished page 4\n",
            "Codigo de resposta da pagina https://api.mercadolibre.com/sites/MLB/search?q=Iphone%2014&offset=200: 200\n",
            "Finished page 5\n",
            "Codigo de resposta da pagina https://api.mercadolibre.com/sites/MLB/search?q=Iphone%2014&offset=250: 200\n",
            "Finished page 6\n",
            "Codigo de resposta da pagina https://api.mercadolibre.com/sites/MLB/search?q=Iphone%2014&offset=300: 200\n",
            "Finished page 7\n",
            "Codigo de resposta da pagina https://api.mercadolibre.com/sites/MLB/search?q=Iphone%2014&offset=350: 200\n",
            "Finished page 8\n",
            "Codigo de resposta da pagina https://api.mercadolibre.com/sites/MLB/search?q=Iphone%2014&offset=400: 200\n",
            "Finished page 9\n",
            "Codigo de resposta da pagina https://api.mercadolibre.com/sites/MLB/search?q=Iphone%2014&offset=450: 200\n",
            "Finished page 10\n",
            "Codigo de resposta da pagina https://api.mercadolibre.com/sites/MLB/search?q=Iphone%2014&offset=500: 200\n",
            "Finished page 11\n",
            "Codigo de resposta da pagina https://api.mercadolibre.com/sites/MLB/search?q=Iphone%2014&offset=550: 200\n",
            "Finished page 12\n",
            "Codigo de resposta da pagina https://api.mercadolibre.com/sites/MLB/search?q=Iphone%2014&offset=600: 200\n",
            "Finished page 13\n",
            "Codigo de resposta da pagina https://api.mercadolibre.com/sites/MLB/search?q=Iphone%2014&offset=650: 200\n",
            "Finished page 14\n",
            "Codigo de resposta da pagina https://api.mercadolibre.com/sites/MLB/search?q=Iphone%2014&offset=700: 200\n",
            "Finished page 15\n",
            "Codigo de resposta da pagina https://api.mercadolibre.com/sites/MLB/search?q=Iphone%2014&offset=750: 200\n",
            "Finished page 16\n",
            "Codigo de resposta da pagina https://api.mercadolibre.com/sites/MLB/search?q=Iphone%2014&offset=800: 200\n",
            "Finished page 17\n",
            "Finished all pages\n"
          ]
        }
      ]
    },
    {
      "cell_type": "code",
      "source": [
        "df = pd.json_normalize(extracted_data)"
      ],
      "metadata": {
        "id": "HUk1MkcB9UNF"
      },
      "execution_count": 3,
      "outputs": []
    },
    {
      "cell_type": "code",
      "source": [
        "df[\"modelo\"].unique()"
      ],
      "metadata": {
        "colab": {
          "base_uri": "https://localhost:8080/"
        },
        "id": "njoJWYcqWoF2",
        "outputId": "99a98fd2-57ee-4286-cd91-c45902f7d8fb"
      },
      "execution_count": 4,
      "outputs": [
        {
          "output_type": "execute_result",
          "data": {
            "text/plain": [
              "array(['iPhone 11', 'iPhone 14', 'iPhone 14 Pro', 'iPhone XR', 'iPhone 7',\n",
              "       'iPhone 14 Plus', 'iPhone 14 Pro Max', 'iPhone 13 Pro Max',\n",
              "       'iPhone 14 BR', 'iPhone', 'iPhone 14 Pro Max 256 GB',\n",
              "       'iPhone 8 Plus', '14 PRO', 'IPHONE 14 PRO ROXO PROFUNDO 128GB',\n",
              "       'iPhone 14Pro Max 1TB', '14 Pro Max', '14', 'iPhone 12',\n",
              "       'iPhone 12 Pro', '14 pró Max', '14 pro nax', '14 pro Max 256 GB',\n",
              "       'iPhone 11 Pro', 'iPhone 14 Pro Max (128 GB)',\n",
              "       'iPhone 14 64GB Preto', 'iphone 14 pro max128', 'XR',\n",
              "       'iPhone 14 128gb', '14 Pro',\n",
              "       'iPhone 14 Pro Max  256 GB. Tela  Grande  6.7',\n",
              "       'iphone 14pro max 256gb', 'iPhone 14 Pro Max cores',\n",
              "       'iPhone 14 ProMax 256', 'iPhone XS Max', 'iPhone XS',\n",
              "       'iPhone 14 plus 128gb', 'iPhone 14 normal', 'Pro',\n",
              "       'iPhone 14 Pro 256gb', 'Xs max 256 gb', 'IPhone XR 64 GB', 'Xr',\n",
              "       'iPhone 14 Pro Max Novo ( lacrado)', 'Aple', '8 Plus',\n",
              "       '14 pro max', 'Iphone 12 64gb', '11 pro max',\n",
              "       'Iphone 13 pro max 12', 'iPhone 12 normal', 'iPhone 11 Pro Max'],\n",
              "      dtype=object)"
            ]
          },
          "metadata": {},
          "execution_count": 4
        }
      ]
    },
    {
      "cell_type": "code",
      "source": [
        "df['modelo'] = df['modelo'].str.replace('IPHONE', 'iPhone')\n",
        "df['modelo'] = df['modelo'].str.replace('iphone', 'iPhone')\n",
        "df['modelo'] = df['modelo'].str.replace('Iphone', 'iPhone')\n",
        "df['modelo'] = df['modelo'].str.replace('IPhone', 'iPhone')"
      ],
      "metadata": {
        "id": "0rNbHOra9vjh"
      },
      "execution_count": 5,
      "outputs": []
    },
    {
      "cell_type": "code",
      "source": [
        "df.drop(df.index[df['modelo'] == 'Pro'], inplace=True)\n",
        "df.drop(df.index[df['modelo'] == 'iPhone'], inplace=True)\n",
        "df.drop(df.index[df['modelo'] == 'iPhone 7'], inplace=True)\n",
        "df.drop(df.index[df['modelo'] == 'iPhone 7 Plus'], inplace=True)\n",
        "df.drop(df.index[df['modelo'] == 'iPhone 12 Pro'], inplace=True)\n",
        "df.drop(df.index[df['modelo'] == 'iPhone 12'], inplace=True)\n",
        "df.drop(df.index[df['modelo'] == 'iPhone XR'], inplace=True)\n",
        "df.drop(df.index[df['modelo'] == 'iPhone XS'], inplace=True)\n",
        "df.drop(df.index[df['modelo'] == 'iPhones 8 ao 14'], inplace=True)\n",
        "df.drop(df.index[df['modelo'] == 'iPhone 14 normal'], inplace=True)\n",
        "df.drop(df.index[df['modelo'] == 'iPhone 11'], inplace=True)\n",
        "df.drop(df.index[df['modelo'] == 'iPhone 11 Pro'], inplace=True)\n",
        "df.drop(df.index[df['modelo'] == 'iPhone 11 Pro Max'], inplace=True)\n",
        "df.drop(df.index[df['modelo'] == 'iPhone 13'], inplace=True)\n",
        "df.drop(df.index[df['modelo'] == 'iPhone 13 Pro'], inplace=True)\n",
        "df.drop(df.index[df['modelo'] == 'iPhone 13 Pro Max'], inplace=True)\n",
        "df.drop(df.index[df['modelo'] == '(n/d)'], inplace=True)\n",
        "df.drop(df.index[df['modelo'] == 'iPhone 14 Pro Apple iPhone 14pro iPhone 13 iPhone 13 pro iPhone12pro celular Apple iPhone 14pro'], inplace=True)\n",
        "df.drop(df.index[df['modelo'] == 'iPhone 14 Pro iPhone13pro iPhone 13 iPhone13pro iPhone11 iPhone 11 pro Apple Celular Roxo'], inplace=True)\n",
        "df.drop(df.index[df['modelo'] == 'Apple'], inplace=True)\n",
        "df.drop(df.index[df['modelo'] == 'Tela 6,7'], inplace=True)\n",
        "df.drop(df.index[df['titulo'].str.contains('iphone', case=False) == False], inplace=True)\n",
        "df.reset_index(inplace=True, drop=True)"
      ],
      "metadata": {
        "id": "pj0NQFYGZov7"
      },
      "execution_count": 6,
      "outputs": []
    },
    {
      "cell_type": "code",
      "source": [
        "df.loc[df[\"modelo\"] == \"14 PRO MAX\", \"modelo\"] = 'iPhone 14 Pro Max'\n",
        "df.loc[df[\"modelo\"] == \"14 PRO MAX 128GB\", \"modelo\"] = 'iPhone 14 Pro Max'\n",
        "df.loc[df[\"modelo\"] == \"14 Pro 256gb\", \"modelo\"] = 'iPhone 14 Pro'\n",
        "df.loc[df[\"modelo\"] == \"iPhone 14 PRO ROXO PROFUNDO 128GB\", \"modelo\"] = 'iPhone 14 Pro'\n",
        "df.loc[df[\"modelo\"] == \"14 PRO\", \"modelo\"] = 'iPhone 14 Pro'\n",
        "df.loc[df[\"modelo\"] == \"iPhone 14Pro Max 1TB\", \"modelo\"] = 'iPhone 14 Pro Max'\n",
        "df.loc[df[\"modelo\"] == \"Sem Rádio\", \"modelo\"] = 'iPhone 14 Pro'\n",
        "df.loc[df[\"modelo\"] == \"14 Pro Max\", \"modelo\"] = 'iPhone 14 Pro Max'\n",
        "df.loc[df[\"modelo\"] == \"iPhone 14Pro Tela de 6,1 polegadas¹\", \"modelo\"] = 'iPhone 14 Pro'\n",
        "df.loc[df[\"modelo\"] == \"iPhone Pro Max 256GB\", \"modelo\"] = 'iPhone 14 Pro Max'\n",
        "df.loc[df[\"modelo\"] == \"iPhone 14 Pro Max Original\", \"modelo\"] = 'iPhone 14 Pro Max'\n",
        "df.loc[df[\"modelo\"] == \"A2894\", \"modelo\"] = 'iPhone 14 Pro Max'\n",
        "df.loc[df[\"modelo\"] == \"MPX33BE/A\", \"modelo\"] = 'iPhone 14'\n",
        "df.loc[df[\"modelo\"] == \"iPhone 14 PRO\", \"modelo\"] = 'iPhone 14 Pro'\n",
        "df.loc[df[\"modelo\"] == \"iPhone 14 PRO MAX\", \"modelo\"] = 'iPhone 14 Pro Max'\n",
        "df.loc[df[\"modelo\"] == \"iPhone 14 pro max\", \"modelo\"] = 'iPhone 14 Pro Max'\n",
        "df.loc[df[\"modelo\"] == \"iPhone 14 pro max128\", \"modelo\"] = 'iPhone 14 Pro Max'\n",
        "df.loc[df[\"modelo\"] == \"14 Pro\", \"modelo\"] = 'iPhone 14 Pro'\n",
        "df.loc[df[\"modelo\"] == \"iPhone 14pro max 256gb\", \"modelo\"] = 'iPhone 14 Pro Max'\n",
        "df.loc[df[\"modelo\"] == \"IPhone 14 Pro Max\", \"modelo\"] = 'iPhone 14 Pro Max'\n",
        "df.loc[df[\"modelo\"] == \"iPhone 14 pro maxx\", \"modelo\"] = 'iPhone 14 Pro Max'\n",
        "df.loc[df[\"modelo\"] == \"14 128 gb\", \"modelo\"] = 'iPhone 14'\n",
        "df.loc[df[\"modelo\"] == \"iPhone 11 Pro Max\", \"modelo\"] = 'iPhone 11 Pro Max'\n",
        "df.loc[df[\"modelo\"] == \"14 pro Max 128gb\", \"modelo\"] = 'iPhone 14 Pro Max'\n",
        "df.loc[df[\"modelo\"] == \"iPhone 14 por max\", \"modelo\"] = 'iPhone 14 Pro Max'\n",
        "df.loc[df[\"modelo\"] == \"iPhone 14 PRO MAX ROXO PROFUNDO 128GB\", \"modelo\"] = 'iPhone 14 Pro Max'\n",
        "df.loc[df[\"modelo\"] == \"A2650\", \"modelo\"] = 'iPhone 14 Pro'\n",
        "df.loc[df[\"modelo\"] == \"iPhone 14 128gb\", \"modelo\"] = 'iPhone 14'\n",
        "df.loc[df[\"modelo\"] == \"MQ503BE/A\", \"modelo\"] = 'iPhone 14 Plus'\n",
        "df.loc[df[\"modelo\"] == \"iPhone 14 BR\", \"modelo\"] = 'iPhone 14'\n",
        "df.loc[df[\"modelo\"] == \"14\", \"modelo\"] = 'iPhone 14'\n",
        "df.loc[df[\"modelo\"] == \"14 Pro Max 256gb\", \"modelo\"] = 'iPhone 14 Pro Max'\n",
        "df.loc[df[\"modelo\"] == \"14 pro max 256gb\", \"modelo\"] = 'iPhone 14 Pro Max'\n",
        "df.loc[df[\"modelo\"] == \"14 pro Max\", \"modelo\"] = 'iPhone 14 Pro Max'\n",
        "df.loc[df[\"modelo\"] == \"iPhone 14 Pro Max - NOVO sem a caixa\", \"modelo\"] = 'iPhone 14 Pro Max'\n",
        "df.loc[df[\"modelo\"] == \"iPhone 14 pro Max\", \"modelo\"] = 'iPhone 14 Pro Max'\n",
        "df.loc[df[\"modelo\"] == \"14 Pro Max 256\", \"modelo\"] = 'iPhone 14 Pro Max'\n",
        "df.loc[df[\"modelo\"] == \"iPhone 14s Pro Max\", \"modelo\"] = 'iPhone 14 Pro Max'\n",
        "df.loc[df[\"modelo\"] == \"14 pro max\", \"modelo\"] = 'iPhone 14 Pro Max'\n",
        "df.loc[df[\"modelo\"] == \"iPhone 14 Pro MAX 128GB\", \"modelo\"] = 'iPhone 14 Pro Max'\n",
        "df.loc[df[\"modelo\"] == \"iPhone 14 Pro americano (esim)\", \"modelo\"] = 'iPhone 14 Pro'\n",
        "df.loc[df[\"modelo\"] == \"iPhone 14 pro 128gb\", \"modelo\"] = 'iPhone 14 Pro'\n",
        "df.loc[df[\"modelo\"] == \"iPhone 14 Pro 128\", \"modelo\"] = 'iPhone 14 Pro'\n",
        "df.loc[df[\"modelo\"] == \"iPhone 14 Pro - Americano (esim)\", \"modelo\"] = 'iPhone 14 Pro'\n",
        "df.loc[df[\"modelo\"] == \"iPhone 14 Pro Max 128gb (sem caixa)\", \"modelo\"] = 'iPhone 14 Pro Max'\n",
        "df.loc[df[\"modelo\"] == \"iPhone 14 Pro max 128 GB\", \"modelo\"] = 'iPhone 14 Pro Max'\n",
        "df.loc[df[\"modelo\"] == \"iPhone 14 pro\", \"modelo\"] = 'iPhone 14 Pro'\n",
        "df.loc[df[\"modelo\"] == \"14 pro\", \"modelo\"] = 'iPhone 14 Pro'\n",
        "df.loc[df[\"modelo\"] == \"iPhone 14 128Gb Novo Lacrado Garantia de 1 Ano\", \"modelo\"] = 'iPhone 14'\n",
        "df.loc[df[\"modelo\"] == \"iPhone 14 128Gb - Novo Lacrado - Garantia de 1 Ano\", \"modelo\"] = 'iPhone 14'\n",
        "df.loc[df[\"modelo\"] == \"iPhone 14 plus 128gb\", \"modelo\"] = 'iPhone 14 Plus'\n",
        "df.loc[df[\"modelo\"] == \"iPhone 14 pro 128 gb\", \"modelo\"] = 'iPhone 14 Pro'\n",
        "df.loc[df[\"modelo\"] == \"iPhone 14 Pro Max (128 GB)\", \"modelo\"] = 'iPhone 14 Pro Max'\n",
        "df.loc[df[\"modelo\"] == \"iPhone 14 Pro 256gb\", \"modelo\"] = 'iPhone 14 Pro'\n",
        "df.loc[df[\"modelo\"] == \"iPhone 14 Pro Max 256 GB\", \"modelo\"] = 'iPhone 14 Pro Max'\n",
        "df.loc[df[\"modelo\"] == \"14 pró Max\", \"modelo\"] = 'iPhone 14 Pro Max'\n",
        "df.loc[df[\"modelo\"] == \"14 pro Max 256 GB\", \"modelo\"] = 'iPhone 14 Pro Max'\n",
        "df.loc[df[\"modelo\"] == \"iPhone 14 Pro Max  256 GB. Tela  Grande  6.7\", \"modelo\"] = 'iPhone 14 Pro Max'\n",
        "df.loc[df[\"modelo\"] == \"iPhone 14 Pro Max cores\", \"modelo\"] = 'iPhone 14 Pro Max'\n",
        "df.loc[df[\"modelo\"] == \"iPhone 14 ProMax 256\", \"modelo\"] = 'iPhone 14 Pro Max'\n",
        "df.loc[df[\"modelo\"] == \"iPhone 14 Pro Max Novo ( lacrado)\", \"modelo\"] = 'iPhone 14 Pro Max'"
      ],
      "metadata": {
        "id": "eahSm_bgcRmm"
      },
      "execution_count": 7,
      "outputs": []
    },
    {
      "cell_type": "code",
      "source": [
        "del_index = df[(df['modelo'] == 'iPhone 14 Pro Max') & (df['titulo'].str.contains('max', case=False) == False)].index\n",
        "del_index = del_index.append(df[(df['modelo'] == 'iPhone 14 Pro Max') & (df['titulo'].str.contains('plus', case=False) == True)].index)\n",
        "del_index = del_index.append(df[(df['modelo'] == 'iPhone 14 Pro Max') & (df['titulo'].str.contains('iphone 14', case=False) == False)].index)\n",
        "del_index = del_index.append(df[(df['modelo'] == 'iPhone 14 Pro') & (df['titulo'].str.contains('pro', case=False) == False)].index)\n",
        "del_index = del_index.append(df[(df['modelo'] == 'iPhone 14 Pro') & (df['titulo'].str.contains('max', case=False) == True)].index)\n",
        "del_index = del_index.append(df[(df['modelo'] == 'iPhone 14 Pro') & (df['titulo'].str.contains('plus', case=False) == True)].index)\n",
        "del_index = del_index.append(df[(df['modelo'] == 'iPhone 14 Pro') & (df['titulo'].str.contains('iphone 14', case=False) == False)].index)\n",
        "del_index = del_index.append(df[(df['modelo'] == 'iPhone 14') & (df['titulo'].str.contains('pro', case=False) == True)].index)\n",
        "del_index = del_index.append(df[(df['modelo'] == 'iPhone 14') & (df['titulo'].str.contains('max', case=False) == True)].index)\n",
        "del_index = del_index.append(df[(df['modelo'] == 'iPhone 14') & (df['titulo'].str.contains('plus', case=False) == True)].index)\n",
        "del_index = del_index.append(df[(df['modelo'] == 'iPhone 14') & (df['titulo'].str.contains('iphone 14', case=False) == False)].index)\n",
        "del_index = del_index.append(df[df['titulo'].str.contains('iphone', case=False) == False].index)\n",
        "del_index = del_index.append(df[df['titulo'].str.contains('14', case=False) == False].index)"
      ],
      "metadata": {
        "id": "XA4hcaT5497Q"
      },
      "execution_count": 8,
      "outputs": []
    },
    {
      "cell_type": "code",
      "source": [
        "df = df.drop(del_index).reset_index(drop=True)"
      ],
      "metadata": {
        "id": "GnYapYqH66vU"
      },
      "execution_count": 9,
      "outputs": []
    },
    {
      "cell_type": "code",
      "source": [
        "df_base = df[['titulo', 'modelo']]"
      ],
      "metadata": {
        "id": "n_gzLqlUgNvd"
      },
      "execution_count": 10,
      "outputs": []
    },
    {
      "cell_type": "code",
      "source": [
        "df_base.modelo.unique()"
      ],
      "metadata": {
        "colab": {
          "base_uri": "https://localhost:8080/"
        },
        "id": "3MPx2jkqluge",
        "outputId": "b300e65a-3a1d-4ab3-81f0-291adaf6fa93"
      },
      "execution_count": 11,
      "outputs": [
        {
          "output_type": "execute_result",
          "data": {
            "text/plain": [
              "array(['iPhone 14', 'iPhone 14 Pro', 'iPhone 14 Plus',\n",
              "       'iPhone 14 Pro Max'], dtype=object)"
            ]
          },
          "metadata": {},
          "execution_count": 11
        }
      ]
    },
    {
      "cell_type": "code",
      "source": [
        "df_base.groupby(by=['modelo']).count()"
      ],
      "metadata": {
        "colab": {
          "base_uri": "https://localhost:8080/",
          "height": 206
        },
        "id": "uhiJhQ-ob0Kw",
        "outputId": "a095849a-aab0-4e68-e6e3-ec8fbe86f2f0"
      },
      "execution_count": 12,
      "outputs": [
        {
          "output_type": "execute_result",
          "data": {
            "text/plain": [
              "                   titulo\n",
              "modelo                   \n",
              "iPhone 14             183\n",
              "iPhone 14 Plus         50\n",
              "iPhone 14 Pro         143\n",
              "iPhone 14 Pro Max     356"
            ],
            "text/html": [
              "\n",
              "\n",
              "  <div id=\"df-14e0e561-a83c-4e73-8156-b46fdd1bc616\">\n",
              "    <div class=\"colab-df-container\">\n",
              "      <div>\n",
              "<style scoped>\n",
              "    .dataframe tbody tr th:only-of-type {\n",
              "        vertical-align: middle;\n",
              "    }\n",
              "\n",
              "    .dataframe tbody tr th {\n",
              "        vertical-align: top;\n",
              "    }\n",
              "\n",
              "    .dataframe thead th {\n",
              "        text-align: right;\n",
              "    }\n",
              "</style>\n",
              "<table border=\"1\" class=\"dataframe\">\n",
              "  <thead>\n",
              "    <tr style=\"text-align: right;\">\n",
              "      <th></th>\n",
              "      <th>titulo</th>\n",
              "    </tr>\n",
              "    <tr>\n",
              "      <th>modelo</th>\n",
              "      <th></th>\n",
              "    </tr>\n",
              "  </thead>\n",
              "  <tbody>\n",
              "    <tr>\n",
              "      <th>iPhone 14</th>\n",
              "      <td>183</td>\n",
              "    </tr>\n",
              "    <tr>\n",
              "      <th>iPhone 14 Plus</th>\n",
              "      <td>50</td>\n",
              "    </tr>\n",
              "    <tr>\n",
              "      <th>iPhone 14 Pro</th>\n",
              "      <td>143</td>\n",
              "    </tr>\n",
              "    <tr>\n",
              "      <th>iPhone 14 Pro Max</th>\n",
              "      <td>356</td>\n",
              "    </tr>\n",
              "  </tbody>\n",
              "</table>\n",
              "</div>\n",
              "      <button class=\"colab-df-convert\" onclick=\"convertToInteractive('df-14e0e561-a83c-4e73-8156-b46fdd1bc616')\"\n",
              "              title=\"Convert this dataframe to an interactive table.\"\n",
              "              style=\"display:none;\">\n",
              "\n",
              "  <svg xmlns=\"http://www.w3.org/2000/svg\" height=\"24px\"viewBox=\"0 0 24 24\"\n",
              "       width=\"24px\">\n",
              "    <path d=\"M0 0h24v24H0V0z\" fill=\"none\"/>\n",
              "    <path d=\"M18.56 5.44l.94 2.06.94-2.06 2.06-.94-2.06-.94-.94-2.06-.94 2.06-2.06.94zm-11 1L8.5 8.5l.94-2.06 2.06-.94-2.06-.94L8.5 2.5l-.94 2.06-2.06.94zm10 10l.94 2.06.94-2.06 2.06-.94-2.06-.94-.94-2.06-.94 2.06-2.06.94z\"/><path d=\"M17.41 7.96l-1.37-1.37c-.4-.4-.92-.59-1.43-.59-.52 0-1.04.2-1.43.59L10.3 9.45l-7.72 7.72c-.78.78-.78 2.05 0 2.83L4 21.41c.39.39.9.59 1.41.59.51 0 1.02-.2 1.41-.59l7.78-7.78 2.81-2.81c.8-.78.8-2.07 0-2.86zM5.41 20L4 18.59l7.72-7.72 1.47 1.35L5.41 20z\"/>\n",
              "  </svg>\n",
              "      </button>\n",
              "\n",
              "\n",
              "\n",
              "    <div id=\"df-f49b82c3-570e-43c4-b334-1f78ea30ff9a\">\n",
              "      <button class=\"colab-df-quickchart\" onclick=\"quickchart('df-f49b82c3-570e-43c4-b334-1f78ea30ff9a')\"\n",
              "              title=\"Suggest charts.\"\n",
              "              style=\"display:none;\">\n",
              "\n",
              "<svg xmlns=\"http://www.w3.org/2000/svg\" height=\"24px\"viewBox=\"0 0 24 24\"\n",
              "     width=\"24px\">\n",
              "    <g>\n",
              "        <path d=\"M19 3H5c-1.1 0-2 .9-2 2v14c0 1.1.9 2 2 2h14c1.1 0 2-.9 2-2V5c0-1.1-.9-2-2-2zM9 17H7v-7h2v7zm4 0h-2V7h2v10zm4 0h-2v-4h2v4z\"/>\n",
              "    </g>\n",
              "</svg>\n",
              "      </button>\n",
              "    </div>\n",
              "\n",
              "<style>\n",
              "  .colab-df-quickchart {\n",
              "    background-color: #E8F0FE;\n",
              "    border: none;\n",
              "    border-radius: 50%;\n",
              "    cursor: pointer;\n",
              "    display: none;\n",
              "    fill: #1967D2;\n",
              "    height: 32px;\n",
              "    padding: 0 0 0 0;\n",
              "    width: 32px;\n",
              "  }\n",
              "\n",
              "  .colab-df-quickchart:hover {\n",
              "    background-color: #E2EBFA;\n",
              "    box-shadow: 0px 1px 2px rgba(60, 64, 67, 0.3), 0px 1px 3px 1px rgba(60, 64, 67, 0.15);\n",
              "    fill: #174EA6;\n",
              "  }\n",
              "\n",
              "  [theme=dark] .colab-df-quickchart {\n",
              "    background-color: #3B4455;\n",
              "    fill: #D2E3FC;\n",
              "  }\n",
              "\n",
              "  [theme=dark] .colab-df-quickchart:hover {\n",
              "    background-color: #434B5C;\n",
              "    box-shadow: 0px 1px 3px 1px rgba(0, 0, 0, 0.15);\n",
              "    filter: drop-shadow(0px 1px 2px rgba(0, 0, 0, 0.3));\n",
              "    fill: #FFFFFF;\n",
              "  }\n",
              "</style>\n",
              "\n",
              "    <script>\n",
              "      async function quickchart(key) {\n",
              "        const containerElement = document.querySelector('#' + key);\n",
              "        const charts = await google.colab.kernel.invokeFunction(\n",
              "            'suggestCharts', [key], {});\n",
              "      }\n",
              "    </script>\n",
              "\n",
              "      <script>\n",
              "\n",
              "function displayQuickchartButton(domScope) {\n",
              "  let quickchartButtonEl =\n",
              "    domScope.querySelector('#df-f49b82c3-570e-43c4-b334-1f78ea30ff9a button.colab-df-quickchart');\n",
              "  quickchartButtonEl.style.display =\n",
              "    google.colab.kernel.accessAllowed ? 'block' : 'none';\n",
              "}\n",
              "\n",
              "        displayQuickchartButton(document);\n",
              "      </script>\n",
              "      <style>\n",
              "    .colab-df-container {\n",
              "      display:flex;\n",
              "      flex-wrap:wrap;\n",
              "      gap: 12px;\n",
              "    }\n",
              "\n",
              "    .colab-df-convert {\n",
              "      background-color: #E8F0FE;\n",
              "      border: none;\n",
              "      border-radius: 50%;\n",
              "      cursor: pointer;\n",
              "      display: none;\n",
              "      fill: #1967D2;\n",
              "      height: 32px;\n",
              "      padding: 0 0 0 0;\n",
              "      width: 32px;\n",
              "    }\n",
              "\n",
              "    .colab-df-convert:hover {\n",
              "      background-color: #E2EBFA;\n",
              "      box-shadow: 0px 1px 2px rgba(60, 64, 67, 0.3), 0px 1px 3px 1px rgba(60, 64, 67, 0.15);\n",
              "      fill: #174EA6;\n",
              "    }\n",
              "\n",
              "    [theme=dark] .colab-df-convert {\n",
              "      background-color: #3B4455;\n",
              "      fill: #D2E3FC;\n",
              "    }\n",
              "\n",
              "    [theme=dark] .colab-df-convert:hover {\n",
              "      background-color: #434B5C;\n",
              "      box-shadow: 0px 1px 3px 1px rgba(0, 0, 0, 0.15);\n",
              "      filter: drop-shadow(0px 1px 2px rgba(0, 0, 0, 0.3));\n",
              "      fill: #FFFFFF;\n",
              "    }\n",
              "  </style>\n",
              "\n",
              "      <script>\n",
              "        const buttonEl =\n",
              "          document.querySelector('#df-14e0e561-a83c-4e73-8156-b46fdd1bc616 button.colab-df-convert');\n",
              "        buttonEl.style.display =\n",
              "          google.colab.kernel.accessAllowed ? 'block' : 'none';\n",
              "\n",
              "        async function convertToInteractive(key) {\n",
              "          const element = document.querySelector('#df-14e0e561-a83c-4e73-8156-b46fdd1bc616');\n",
              "          const dataTable =\n",
              "            await google.colab.kernel.invokeFunction('convertToInteractive',\n",
              "                                                     [key], {});\n",
              "          if (!dataTable) return;\n",
              "\n",
              "          const docLinkHtml = 'Like what you see? Visit the ' +\n",
              "            '<a target=\"_blank\" href=https://colab.research.google.com/notebooks/data_table.ipynb>data table notebook</a>'\n",
              "            + ' to learn more about interactive tables.';\n",
              "          element.innerHTML = '';\n",
              "          dataTable['output_type'] = 'display_data';\n",
              "          await google.colab.output.renderOutput(dataTable, element);\n",
              "          const docLink = document.createElement('div');\n",
              "          docLink.innerHTML = docLinkHtml;\n",
              "          element.appendChild(docLink);\n",
              "        }\n",
              "      </script>\n",
              "    </div>\n",
              "  </div>\n"
            ]
          },
          "metadata": {},
          "execution_count": 12
        }
      ]
    },
    {
      "cell_type": "code",
      "source": [
        "#Balanceador\n",
        "sampler = RandomOverSampler(random_state=0)\n",
        "\n",
        "# Separação do label e das features\n",
        "X = df_base.drop('modelo', axis=1).values\n",
        "y = df_base['modelo'].values\n",
        "\n",
        "# Balanceamento da base de dados\n",
        "X_resampled, y_resampled = sampler.fit_resample(X, y)\n",
        "\n",
        "# Separação de dados de treino e teste\n",
        "train_features, test_features, class_train, class_test = train_test_split(X_resampled, y_resampled, test_size=0.20, random_state=10, stratify=y_resampled)"
      ],
      "metadata": {
        "id": "R1r-xHG6zCBc"
      },
      "execution_count": 13,
      "outputs": []
    },
    {
      "cell_type": "code",
      "source": [
        "\n",
        "\n",
        "# Criação de matriz com a contagem de cada token SEM stop words\n",
        "cv = CountVectorizer(max_features=1000)\n",
        "cv_train_features = cv.fit_transform(train_features.ravel())\n",
        "cv_test_features = cv.transform(test_features.ravel())\n",
        "\n",
        "print('Shape das features de treino:', cv_train_features.shape, ' Shape das features de teste:', cv_test_features.shape)"
      ],
      "metadata": {
        "colab": {
          "base_uri": "https://localhost:8080/"
        },
        "id": "b2_WhHqh9rfP",
        "outputId": "3871fb89-f829-44ed-bd79-179165b69967"
      },
      "execution_count": 14,
      "outputs": [
        {
          "output_type": "stream",
          "name": "stdout",
          "text": [
            "Shape das features de treino: (1139, 255)  Shape das features de teste: (285, 255)\n"
          ]
        }
      ]
    },
    {
      "cell_type": "code",
      "source": [
        "\n",
        "\n",
        "def train_predict_model(classifier,\n",
        "                        train_features, train_labels,\n",
        "                        test_features, test_labels):\n",
        "    classifier = classifier.fit(train_features, train_labels)\n",
        "    predictions = classifier.predict(test_features)\n",
        "    return predictions"
      ],
      "metadata": {
        "id": "V0hv9eeF9wPE"
      },
      "execution_count": 15,
      "outputs": []
    },
    {
      "cell_type": "code",
      "source": [
        "def display_confusion_matrix(true_labels, predicted_labels, classes=[1,0]):\n",
        "\n",
        "    total_classes = len(classes)\n",
        "    level_labels = [total_classes*[0], list(range(total_classes))]\n",
        "\n",
        "    cm = metrics.confusion_matrix(y_true=true_labels, y_pred=predicted_labels,\n",
        "                                  labels=classes)\n",
        "\n",
        "    cm_frame = pd.DataFrame(cm, index=classes, columns=classes,)\n",
        "    cm_frame.index.name = 'Actual'\n",
        "    cm_frame.columns.name = 'Predicted'\n",
        "\n",
        "    print(cm_frame)\n",
        "\n",
        "def display_classification_report(true_labels, predicted_labels, classes=[1,0]):\n",
        "\n",
        "    report = metrics.classification_report(y_true=true_labels,\n",
        "                                           y_pred=predicted_labels,\n",
        "                                           labels=classes)\n",
        "    print(report)\n",
        "\n",
        "def display_model_performance_metrics(true_labels, predicted_labels, classes=[1,0]):\n",
        "    print('Model Performance metrics:')\n",
        "    print('-'*30)\n",
        "    get_metrics(true_labels=true_labels, predicted_labels=predicted_labels)\n",
        "    print('\\nModel Classification report:')\n",
        "    print('-'*30)\n",
        "    display_classification_report(true_labels=true_labels, predicted_labels=predicted_labels,\n",
        "                                  classes=classes)\n",
        "    print('\\nPrediction Confusion Matrix:')\n",
        "    print('-'*30)\n",
        "    display_confusion_matrix(true_labels=true_labels, predicted_labels=predicted_labels,\n",
        "                             classes=classes)\n",
        "\n",
        "def get_metrics(true_labels, predicted_labels):\n",
        "\n",
        "    print('Accuracy:', np.round(\n",
        "                        metrics.accuracy_score(true_labels,\n",
        "                                               predicted_labels),\n",
        "                        4))\n",
        "    print('Precision:', np.round(\n",
        "                        metrics.precision_score(true_labels,\n",
        "                                               predicted_labels,\n",
        "                                               average='weighted'),\n",
        "                        4))\n",
        "    print('Recall:', np.round(\n",
        "                        metrics.recall_score(true_labels,\n",
        "                                               predicted_labels,\n",
        "                                               average='weighted'),\n",
        "                        4))\n",
        "    print('F1 Score:', np.round(\n",
        "                        metrics.f1_score(true_labels,\n",
        "                                               predicted_labels,\n",
        "                                               average='weighted'),\n",
        "                        4))\n"
      ],
      "metadata": {
        "id": "gJ9o329M90PX"
      },
      "execution_count": 16,
      "outputs": []
    },
    {
      "cell_type": "code",
      "source": [
        "\n",
        "\n",
        "rfc = RandomForestClassifier(n_jobs=-1)\n",
        "\n",
        "classes = list(df_base['modelo'].unique())\n",
        "\n",
        "classifier = rfc.fit(cv_train_features, class_train)\n",
        "\n",
        "rfc_tfidf_predictions = train_predict_model(classifier=rfc,\n",
        "                                                train_features=cv_train_features, train_labels=class_train,\n",
        "                                                test_features=cv_test_features, test_labels=class_test)\n",
        "\n",
        "display_model_performance_metrics(true_labels=class_test, predicted_labels=rfc_tfidf_predictions,classes=classes)"
      ],
      "metadata": {
        "colab": {
          "base_uri": "https://localhost:8080/"
        },
        "id": "QeNrLnAq91aD",
        "outputId": "c400760f-a65e-4900-f0e7-865305ffc490"
      },
      "execution_count": 17,
      "outputs": [
        {
          "output_type": "stream",
          "name": "stdout",
          "text": [
            "Model Performance metrics:\n",
            "------------------------------\n",
            "Accuracy: 1.0\n",
            "Precision: 1.0\n",
            "Recall: 1.0\n",
            "F1 Score: 1.0\n",
            "\n",
            "Model Classification report:\n",
            "------------------------------\n",
            "                   precision    recall  f1-score   support\n",
            "\n",
            "        iPhone 14       1.00      1.00      1.00        71\n",
            "    iPhone 14 Pro       1.00      1.00      1.00        71\n",
            "   iPhone 14 Plus       1.00      1.00      1.00        72\n",
            "iPhone 14 Pro Max       1.00      1.00      1.00        71\n",
            "\n",
            "         accuracy                           1.00       285\n",
            "        macro avg       1.00      1.00      1.00       285\n",
            "     weighted avg       1.00      1.00      1.00       285\n",
            "\n",
            "\n",
            "Prediction Confusion Matrix:\n",
            "------------------------------\n",
            "Predicted          iPhone 14  iPhone 14 Pro  iPhone 14 Plus  iPhone 14 Pro Max\n",
            "Actual                                                                        \n",
            "iPhone 14                 71              0               0                  0\n",
            "iPhone 14 Pro              0             71               0                  0\n",
            "iPhone 14 Plus             0              0              72                  0\n",
            "iPhone 14 Pro Max          0              0               0                 71\n"
          ]
        }
      ]
    },
    {
      "cell_type": "code",
      "source": [
        "joblib.dump(classifier, \"model.joblib\")\n",
        "joblib.dump(cv, \"cv.joblib\")"
      ],
      "metadata": {
        "id": "P4fzKNO9-mOU",
        "outputId": "f56c8259-0bc4-46c6-a601-3b09fcc152cd",
        "colab": {
          "base_uri": "https://localhost:8080/"
        }
      },
      "execution_count": 18,
      "outputs": [
        {
          "output_type": "execute_result",
          "data": {
            "text/plain": [
              "['cv.joblib']"
            ]
          },
          "metadata": {},
          "execution_count": 18
        }
      ]
    }
  ]
}