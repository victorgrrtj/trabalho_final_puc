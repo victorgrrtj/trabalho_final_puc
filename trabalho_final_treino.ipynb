{
  "nbformat": 4,
  "nbformat_minor": 0,
  "metadata": {
    "colab": {
      "provenance": [],
      "authorship_tag": "ABX9TyOOETfE5kdgvKuUnmt+wSoK",
      "include_colab_link": true
    },
    "kernelspec": {
      "display_name": "Python 3",
      "name": "python3"
    },
    "language_info": {
      "name": "python"
    }
  },
  "cells": [
    {
      "cell_type": "markdown",
      "metadata": {
        "id": "view-in-github",
        "colab_type": "text"
      },
      "source": [
        "<a href=\"https://colab.research.google.com/github/victorgrrtj/trabalho_final_puc/blob/main/trabalho_final_treino.ipynb\" target=\"_parent\"><img src=\"https://colab.research.google.com/assets/colab-badge.svg\" alt=\"Open In Colab\"/></a>"
      ]
    },
    {
      "cell_type": "markdown",
      "metadata": {
        "id": "5T9_JTLXrKYN"
      },
      "source": [
        "\n",
        "# Trabalho Final - Treinamento do Modelo Preditivo"
      ]
    },
    {
      "cell_type": "markdown",
      "metadata": {
        "id": "55fqYjJjrasB"
      },
      "source": [
        "## Importação de Bibliotecas"
      ]
    },
    {
      "cell_type": "code",
      "metadata": {
        "id": "9aWsgUxLRRwk"
      },
      "source": [
        "# Importação das bibliotecas\n",
        "import requests\n",
        "import pandas as pd\n",
        "import re\n",
        "from IPython.display import HTML\n",
        "import math\n",
        "import time\n",
        "import random\n",
        "import datetime\n",
        "import joblib\n",
        "headers = {\n",
        "    'Authorization': 'Bearer $ACCESS_TOKEN',\n",
        "}"
      ],
      "execution_count": 1,
      "outputs": []
    },
    {
      "cell_type": "markdown",
      "metadata": {
        "id": "rQU3oTeEtZxC"
      },
      "source": [
        "## Sumarização de todas as extrações."
      ]
    },
    {
      "cell_type": "code",
      "metadata": {
        "id": "v8PdWveGW6XS",
        "colab": {
          "base_uri": "https://localhost:8080/"
        },
        "outputId": "16c14659-5fd8-46e0-c241-86a47350fbba"
      },
      "source": [
        "\"\"\" Contém looping para todas as páginas.\n",
        "Retorna um dicionário com as informações de cada imóvel.\n",
        "Devido à quantidade de páginas, este processo pode demorar mais de 30 minutos.\"\"\"\n",
        "\n",
        "headers = {\n",
        "    'Authorization': 'Bearer $ACCESS_TOKEN',\n",
        "}\n",
        "\n",
        "offset = 0\n",
        "pag_inicial = 'https://api.mercadolibre.com/sites/MLB/search?q=Iphone%2014&offset='+str(offset)\n",
        "\n",
        "response = requests.get(\n",
        "  pag_inicial,\n",
        "  headers=headers)\n",
        "json = response.json()\n",
        "qtd_pag = round(json['paging']['total']/50)\n",
        "qtd_itens = json['paging']['total']\n",
        "\n",
        "print(\"Foram encontradas {} páginas e {} produtos.\".format(qtd_pag, qtd_itens))\n",
        "\n",
        "offset = 0\n",
        "url_list = [pag_inicial]\n",
        "for page in range(qtd_pag):\n",
        "  offset += 50\n",
        "  prox_pagina = 'https://api.mercadolibre.com/sites/MLB/search?q=Iphone%2014&offset='+str(offset)\n",
        "  url_list.append(prox_pagina)\n",
        "\n",
        "extracted_data = []\n",
        "\n",
        "for index, url in enumerate(url_list):\n",
        "  response = requests.get(\n",
        "      url,\n",
        "      headers=headers)\n",
        "  print(\"Codigo de resposta da pagina {}: {}\".format(url, response.status_code))\n",
        "\n",
        "  json = response.json()\n",
        "  results = json['results']\n",
        "  time.sleep(random.randint(2,6))\n",
        "\n",
        "  for item in results:\n",
        "    product_dict = {}\n",
        "    product_dict['id'] = item.get('id')\n",
        "    product_dict['titulo'] = item.get('title')\n",
        "    product_dict['condicao'] = item.get('condition')\n",
        "    product_dict['link'] = item.get('permalink')\n",
        "    product_dict['preco'] = item.get('price')\n",
        "    for attribute in item.get('attributes'):\n",
        "      if attribute.get('name') == 'Marca':\n",
        "        product_dict['marca'] = attribute.get('value_name')\n",
        "      elif attribute.get('name') == 'Linha':\n",
        "        product_dict['linha'] = attribute.get('value_name')\n",
        "      elif attribute.get('name') == 'Modelo':\n",
        "        product_dict['modelo'] = attribute.get('value_name')\n",
        "    product_dict['nome_vendedor'] = item.get('seller').get('nickname')\n",
        "    product_dict['nvl_vendedor'] = item.get('seller').get('seller_reputation').get('level_id')\n",
        "    product_dict['vendas_concluidas'] = item.get('seller').get('seller_reputation').get('transactions').get('completed')\n",
        "    product_dict['qtd_avaliacoes'] = item.get('seller').get('seller_reputation').get('transactions').get('total')\n",
        "    product_dict['avlc_pos'] = item.get('seller').get('seller_reputation').get('transactions').get('ratings').get('positive')\n",
        "    product_dict['avlc_neut'] = item.get('seller').get('seller_reputation').get('transactions').get('ratings').get('neutral')\n",
        "    product_dict['avlc_neg'] = item.get('seller').get('seller_reputation').get('transactions').get('ratings').get('negative')\n",
        "    extracted_data.append(product_dict)\n",
        "\n",
        "  print('Finished page ' + str(index + 1))\n",
        "print('Finished all pages')"
      ],
      "execution_count": 2,
      "outputs": [
        {
          "output_type": "stream",
          "name": "stdout",
          "text": [
            "Foram encontradas 17 páginas e 838 produtos.\n",
            "Codigo de resposta da pagina https://api.mercadolibre.com/sites/MLB/search?q=Iphone%2014&offset=0: 200\n",
            "Finished page 1\n",
            "Codigo de resposta da pagina https://api.mercadolibre.com/sites/MLB/search?q=Iphone%2014&offset=50: 200\n",
            "Finished page 2\n",
            "Codigo de resposta da pagina https://api.mercadolibre.com/sites/MLB/search?q=Iphone%2014&offset=100: 200\n",
            "Finished page 3\n",
            "Codigo de resposta da pagina https://api.mercadolibre.com/sites/MLB/search?q=Iphone%2014&offset=150: 200\n",
            "Finished page 4\n",
            "Codigo de resposta da pagina https://api.mercadolibre.com/sites/MLB/search?q=Iphone%2014&offset=200: 200\n",
            "Finished page 5\n",
            "Codigo de resposta da pagina https://api.mercadolibre.com/sites/MLB/search?q=Iphone%2014&offset=250: 200\n",
            "Finished page 6\n",
            "Codigo de resposta da pagina https://api.mercadolibre.com/sites/MLB/search?q=Iphone%2014&offset=300: 200\n",
            "Finished page 7\n",
            "Codigo de resposta da pagina https://api.mercadolibre.com/sites/MLB/search?q=Iphone%2014&offset=350: 200\n",
            "Finished page 8\n",
            "Codigo de resposta da pagina https://api.mercadolibre.com/sites/MLB/search?q=Iphone%2014&offset=400: 200\n",
            "Finished page 9\n",
            "Codigo de resposta da pagina https://api.mercadolibre.com/sites/MLB/search?q=Iphone%2014&offset=450: 200\n",
            "Finished page 10\n",
            "Codigo de resposta da pagina https://api.mercadolibre.com/sites/MLB/search?q=Iphone%2014&offset=500: 200\n",
            "Finished page 11\n",
            "Codigo de resposta da pagina https://api.mercadolibre.com/sites/MLB/search?q=Iphone%2014&offset=550: 200\n",
            "Finished page 12\n",
            "Codigo de resposta da pagina https://api.mercadolibre.com/sites/MLB/search?q=Iphone%2014&offset=600: 200\n",
            "Finished page 13\n",
            "Codigo de resposta da pagina https://api.mercadolibre.com/sites/MLB/search?q=Iphone%2014&offset=650: 200\n",
            "Finished page 14\n",
            "Codigo de resposta da pagina https://api.mercadolibre.com/sites/MLB/search?q=Iphone%2014&offset=700: 200\n",
            "Finished page 15\n",
            "Codigo de resposta da pagina https://api.mercadolibre.com/sites/MLB/search?q=Iphone%2014&offset=750: 200\n",
            "Finished page 16\n",
            "Codigo de resposta da pagina https://api.mercadolibre.com/sites/MLB/search?q=Iphone%2014&offset=800: 200\n",
            "Finished page 17\n",
            "Codigo de resposta da pagina https://api.mercadolibre.com/sites/MLB/search?q=Iphone%2014&offset=850: 200\n",
            "Finished page 18\n",
            "Finished all pages\n"
          ]
        }
      ]
    },
    {
      "cell_type": "code",
      "source": [
        "df = pd.json_normalize(extracted_data)"
      ],
      "metadata": {
        "id": "HUk1MkcB9UNF"
      },
      "execution_count": 21,
      "outputs": []
    },
    {
      "cell_type": "code",
      "source": [
        "df[\"modelo\"].unique()"
      ],
      "metadata": {
        "colab": {
          "base_uri": "https://localhost:8080/"
        },
        "id": "njoJWYcqWoF2",
        "outputId": "82f47d2e-98ac-452a-8e59-76d9384e2908"
      },
      "execution_count": 22,
      "outputs": [
        {
          "output_type": "execute_result",
          "data": {
            "text/plain": [
              "array(['iPhone 14', 'iPhone 14 Pro Max', 'iPhone 13', 'iPhone 14 Pro',\n",
              "       '(n/d)', 'iPhone 13 Pro', 'iPhone 7 Plus', 'IPHONE 14', 'iPhone 7',\n",
              "       'iPhone 14 BR', 'iPhone 14 Plus', 'iPhone 14 pro', '14 PRO MAX',\n",
              "       'iPhone 11', '14', 'IPHONE 14 PRO',\n",
              "       'iPhone 14 128Gb Novo Lacrado Garantia de 1 Ano',\n",
              "       'Iphone 14 128gb', 'iPhone',\n",
              "       'iPhone 14 128Gb - Novo Lacrado - Garantia de 1 Ano',\n",
              "       'iPhone 14Pro Max 1TB', '14 Pro 256gb', '14 PRO', 'Apple',\n",
              "       'Iphone 14 plus 128gb', 'iPhone 14 PRO MAX', 'iPhone 14 PRO',\n",
              "       'Tela 6,7',\n",
              "       'iPhone 14 Pro Apple iPhone 14pro iphone 13 iphone 13 pro iphone12pro celular Apple iPhone 14pro',\n",
              "       'IPhone 14', 'iPhone 14 128gb', 'iphone 14 pro max128',\n",
              "       'iPhone 14 pro 128 gb', '14 Pro', 'iPhone 14 Pro Max (128 GB)',\n",
              "       '14 pro', 'iphone 14pro max 256gb', 'Iphone 14 Pro 256gb',\n",
              "       'iPhone 14 Pro iphone13pro iPhone 13 iphone13pro iphone11 iPhone 11 pro Apple Celular Roxo',\n",
              "       'Iphone 14 pro max', 'iPhone 14 pro 128gb', 'iphone 14 pro max',\n",
              "       'iPhone 14 Pro max 128 GB', 'iPhone 11 Pro'], dtype=object)"
            ]
          },
          "metadata": {},
          "execution_count": 22
        }
      ]
    },
    {
      "cell_type": "code",
      "source": [
        "df['modelo'] = df['modelo'].str.replace('IPHONE', 'iPhone')\n",
        "df['modelo'] = df['modelo'].str.replace('iphone', 'iPhone')\n",
        "df['modelo'] = df['modelo'].str.replace('Iphone', 'iPhone')\n",
        "df['modelo'] = df['modelo'].str.replace('IPhone', 'iPhone')"
      ],
      "metadata": {
        "id": "0rNbHOra9vjh"
      },
      "execution_count": 23,
      "outputs": []
    },
    {
      "cell_type": "code",
      "source": [
        "df.drop(df.index[df['modelo'] == 'iPhone'], inplace=True)\n",
        "df.drop(df.index[df['modelo'] == 'iPhone 7'], inplace=True)\n",
        "df.drop(df.index[df['modelo'] == 'iPhone 7 Plus'], inplace=True)\n",
        "df.drop(df.index[df['modelo'] == 'iPhone 12 Pro'], inplace=True)\n",
        "df.drop(df.index[df['modelo'] == 'iPhones 8 ao 14'], inplace=True)\n",
        "df.drop(df.index[df['modelo'] == 'iPhone 11'], inplace=True)\n",
        "df.drop(df.index[df['modelo'] == 'iPhone 11 Pro'], inplace=True)\n",
        "df.drop(df.index[df['modelo'] == 'iPhone 11 Pro Max'], inplace=True)\n",
        "df.drop(df.index[df['modelo'] == 'iPhone 13'], inplace=True)\n",
        "df.drop(df.index[df['modelo'] == 'iPhone 13 Pro'], inplace=True)\n",
        "df.drop(df.index[df['modelo'] == 'iPhone 13 Pro Max'], inplace=True)\n",
        "df.drop(df.index[df['modelo'] == '(n/d)'], inplace=True)\n",
        "df.drop(df.index[df['modelo'] == 'iPhone 14 Pro Apple iPhone 14pro iPhone 13 iPhone 13 pro iPhone12pro celular Apple iPhone 14pro'], inplace=True)\n",
        "df.drop(df.index[df['modelo'] == 'iPhone 14 Pro iPhone13pro iPhone 13 iPhone13pro iPhone11 iPhone 11 pro Apple Celular Roxo'], inplace=True)\n",
        "df.drop(df.index[df['modelo'] == 'Apple'], inplace=True)\n",
        "df.drop(df.index[df['modelo'] == 'Tela 6,7'], inplace=True)\n",
        "df.drop(df.index[df['titulo'].str.contains('iphone', case=False) == False], inplace=True)\n",
        "df.reset_index(inplace=True, drop=True)"
      ],
      "metadata": {
        "id": "pj0NQFYGZov7"
      },
      "execution_count": 24,
      "outputs": []
    },
    {
      "cell_type": "code",
      "source": [
        "df.loc[df[\"modelo\"] == \"14 PRO MAX\", \"modelo\"] = 'iPhone 14 Pro Max'\n",
        "df.loc[df[\"modelo\"] == \"14 PRO MAX 128GB\", \"modelo\"] = 'iPhone 14 Pro Max'\n",
        "df.loc[df[\"modelo\"] == \"14 Pro 256gb\", \"modelo\"] = 'iPhone 14 Pro'\n",
        "df.loc[df[\"modelo\"] == \"iPhone 14 PRO ROXO PROFUNDO 128GB\", \"modelo\"] = 'iPhone 14 Pro'\n",
        "df.loc[df[\"modelo\"] == \"14 PRO\", \"modelo\"] = 'iPhone 14 Pro'\n",
        "df.loc[df[\"modelo\"] == \"iPhone 14Pro Max 1TB\", \"modelo\"] = 'iPhone 14 Pro Max'\n",
        "df.loc[df[\"modelo\"] == \"Sem Rádio\", \"modelo\"] = 'iPhone 14 Pro'\n",
        "df.loc[df[\"modelo\"] == \"14 Pro Max\", \"modelo\"] = 'iPhone 14 Pro Max'\n",
        "df.loc[df[\"modelo\"] == \"iPhone 14Pro Tela de 6,1 polegadas¹\", \"modelo\"] = 'iPhone 14 Pro'\n",
        "df.loc[df[\"modelo\"] == \"iPhone Pro Max 256GB\", \"modelo\"] = 'iPhone 14 Pro Max'\n",
        "df.loc[df[\"modelo\"] == \"iPhone 14 Pro Max Original\", \"modelo\"] = 'iPhone 14 Pro Max'\n",
        "df.loc[df[\"modelo\"] == \"A2894\", \"modelo\"] = 'iPhone 14 Pro Max'\n",
        "df.loc[df[\"modelo\"] == \"MPX33BE/A\", \"modelo\"] = 'iPhone 14'\n",
        "df.loc[df[\"modelo\"] == \"iPhone 14 PRO\", \"modelo\"] = 'iPhone 14 Pro'\n",
        "df.loc[df[\"modelo\"] == \"iPhone 14 PRO MAX\", \"modelo\"] = 'iPhone 14 Pro Max'\n",
        "df.loc[df[\"modelo\"] == \"iPhone 14 pro max\", \"modelo\"] = 'iPhone 14 Pro Max'\n",
        "df.loc[df[\"modelo\"] == \"iPhone 14 pro max128\", \"modelo\"] = 'iPhone 14 Pro Max'\n",
        "df.loc[df[\"modelo\"] == \"14 Pro\", \"modelo\"] = 'iPhone 14 Pro'\n",
        "df.loc[df[\"modelo\"] == \"iPhone 14pro max 256gb\", \"modelo\"] = 'iPhone 14 Pro Max'\n",
        "df.loc[df[\"modelo\"] == \"IPhone 14 Pro Max\", \"modelo\"] = 'iPhone 14 Pro Max'\n",
        "df.loc[df[\"modelo\"] == \"iPhone 14 pro maxx\", \"modelo\"] = 'iPhone 14 Pro Max'\n",
        "df.loc[df[\"modelo\"] == \"14 128 gb\", \"modelo\"] = 'iPhone 14'\n",
        "df.loc[df[\"modelo\"] == \"iPhone 11 Pro Max\", \"modelo\"] = 'iPhone 11 Pro Max'\n",
        "df.loc[df[\"modelo\"] == \"14 pro Max 128gb\", \"modelo\"] = 'iPhone 14 Pro Max'\n",
        "df.loc[df[\"modelo\"] == \"iPhone 14 por max\", \"modelo\"] = 'iPhone 14 Pro Max'\n",
        "df.loc[df[\"modelo\"] == \"iPhone 14 PRO MAX ROXO PROFUNDO 128GB\", \"modelo\"] = 'iPhone 14 Pro Max'\n",
        "df.loc[df[\"modelo\"] == \"A2650\", \"modelo\"] = 'iPhone 14 Pro'\n",
        "df.loc[df[\"modelo\"] == \"iPhone 14 128gb\", \"modelo\"] = 'iPhone 14'\n",
        "df.loc[df[\"modelo\"] == \"MQ503BE/A\", \"modelo\"] = 'iPhone 14 Plus'\n",
        "df.loc[df[\"modelo\"] == \"iPhone 14 BR\", \"modelo\"] = 'iPhone 14'\n",
        "df.loc[df[\"modelo\"] == \"14\", \"modelo\"] = 'iPhone 14'\n",
        "df.loc[df[\"modelo\"] == \"14 Pro Max 256gb\", \"modelo\"] = 'iPhone 14 Pro Max'\n",
        "df.loc[df[\"modelo\"] == \"14 pro max 256gb\", \"modelo\"] = 'iPhone 14 Pro Max'\n",
        "df.loc[df[\"modelo\"] == \"14 pro Max\", \"modelo\"] = 'iPhone 14 Pro Max'\n",
        "df.loc[df[\"modelo\"] == \"iPhone 14 Pro Max - NOVO sem a caixa\", \"modelo\"] = 'iPhone 14 Pro Max'\n",
        "df.loc[df[\"modelo\"] == \"iPhone 14 pro Max\", \"modelo\"] = 'iPhone 14 Pro Max'\n",
        "df.loc[df[\"modelo\"] == \"14 Pro Max 256\", \"modelo\"] = 'iPhone 14 Pro Max'\n",
        "df.loc[df[\"modelo\"] == \"iPhone 14s Pro Max\", \"modelo\"] = 'iPhone 14 Pro Max'\n",
        "df.loc[df[\"modelo\"] == \"14 pro max\", \"modelo\"] = 'iPhone 14 Pro Max'\n",
        "df.loc[df[\"modelo\"] == \"iPhone 14 Pro MAX 128GB\", \"modelo\"] = 'iPhone 14 Pro Max'\n",
        "df.loc[df[\"modelo\"] == \"iPhone 14 Pro americano (esim)\", \"modelo\"] = 'iPhone 14 Pro'\n",
        "df.loc[df[\"modelo\"] == \"iPhone 14 pro 128gb\", \"modelo\"] = 'iPhone 14 Pro'\n",
        "df.loc[df[\"modelo\"] == \"iPhone 14 Pro 128\", \"modelo\"] = 'iPhone 14 Pro'\n",
        "df.loc[df[\"modelo\"] == \"iPhone 14 Pro - Americano (esim)\", \"modelo\"] = 'iPhone 14 Pro'\n",
        "df.loc[df[\"modelo\"] == \"iPhone 14 Pro Max 128gb (sem caixa)\", \"modelo\"] = 'iPhone 14 Pro Max'\n",
        "df.loc[df[\"modelo\"] == \"iPhone 14 Pro max 128 GB\", \"modelo\"] = 'iPhone 14 Pro Max'\n",
        "df.loc[df[\"modelo\"] == \"iPhone 14 pro\", \"modelo\"] = 'iPhone 14 Pro'\n",
        "df.loc[df[\"modelo\"] == \"14 pro\", \"modelo\"] = 'iPhone 14 Pro'\n",
        "df.loc[df[\"modelo\"] == \"iPhone 14 128Gb Novo Lacrado Garantia de 1 Ano\", \"modelo\"] = 'iPhone 14'\n",
        "df.loc[df[\"modelo\"] == \"iPhone 14 128Gb - Novo Lacrado - Garantia de 1 Ano\", \"modelo\"] = 'iPhone 14'\n",
        "df.loc[df[\"modelo\"] == \"iPhone 14 plus 128gb\", \"modelo\"] = 'iPhone 14 Plus'\n",
        "df.loc[df[\"modelo\"] == \"iPhone 14 pro 128 gb\", \"modelo\"] = 'iPhone 14 Pro'\n",
        "df.loc[df[\"modelo\"] == \"iPhone 14 Pro Max (128 GB)\", \"modelo\"] = 'iPhone 14 Pro Max'\n",
        "df.loc[df[\"modelo\"] == \"iPhone 14 Pro 256gb\", \"modelo\"] = 'iPhone 14 Pro'"
      ],
      "metadata": {
        "id": "eahSm_bgcRmm"
      },
      "execution_count": 25,
      "outputs": []
    },
    {
      "cell_type": "code",
      "source": [
        "del_index = df[(df['modelo'] == 'iPhone 14 Pro Max') & (df['titulo'].str.contains('max', case=False) == False)].index\n",
        "del_index = del_index.append(df[(df['modelo'] == 'iPhone 14 Pro Max') & (df['titulo'].str.contains('plus', case=False) == True)].index)\n",
        "del_index = del_index.append(df[(df['modelo'] == 'iPhone 14 Pro Max') & (df['titulo'].str.contains('iphone 14', case=False) == False)].index)\n",
        "del_index = del_index.append(df[(df['modelo'] == 'iPhone 14 Pro') & (df['titulo'].str.contains('pro', case=False) == False)].index)\n",
        "del_index = del_index.append(df[(df['modelo'] == 'iPhone 14 Pro') & (df['titulo'].str.contains('max', case=False) == True)].index)\n",
        "del_index = del_index.append(df[(df['modelo'] == 'iPhone 14 Pro') & (df['titulo'].str.contains('plus', case=False) == True)].index)\n",
        "del_index = del_index.append(df[(df['modelo'] == 'iPhone 14 Pro') & (df['titulo'].str.contains('iphone 14', case=False) == False)].index)\n",
        "del_index = del_index.append(df[(df['modelo'] == 'iPhone 14') & (df['titulo'].str.contains('pro', case=False) == True)].index)\n",
        "del_index = del_index.append(df[(df['modelo'] == 'iPhone 14') & (df['titulo'].str.contains('max', case=False) == True)].index)\n",
        "del_index = del_index.append(df[(df['modelo'] == 'iPhone 14') & (df['titulo'].str.contains('plus', case=False) == True)].index)\n",
        "del_index = del_index.append(df[(df['modelo'] == 'iPhone 14') & (df['titulo'].str.contains('iphone 14', case=False) == False)].index)\n",
        "del_index = del_index.append(df[df['titulo'].str.contains('iphone', case=False) == False].index)\n",
        "del_index = del_index.append(df[df['titulo'].str.contains('14', case=False) == False].index)"
      ],
      "metadata": {
        "id": "XA4hcaT5497Q"
      },
      "execution_count": 26,
      "outputs": []
    },
    {
      "cell_type": "code",
      "source": [
        "df = df.drop(del_index).reset_index(drop=True)"
      ],
      "metadata": {
        "id": "GnYapYqH66vU"
      },
      "execution_count": 27,
      "outputs": []
    },
    {
      "cell_type": "code",
      "source": [
        "df_base = df[['titulo', 'modelo']]"
      ],
      "metadata": {
        "id": "n_gzLqlUgNvd"
      },
      "execution_count": 28,
      "outputs": []
    },
    {
      "cell_type": "code",
      "source": [
        "df_base.modelo.unique()"
      ],
      "metadata": {
        "colab": {
          "base_uri": "https://localhost:8080/"
        },
        "id": "3MPx2jkqluge",
        "outputId": "3a83e39c-f6c8-4193-cbd1-58188e2ff1cd"
      },
      "execution_count": 30,
      "outputs": [
        {
          "output_type": "execute_result",
          "data": {
            "text/plain": [
              "array(['iPhone 14', 'iPhone 14 Pro Max', 'iPhone 14 Pro',\n",
              "       'iPhone 14 Plus'], dtype=object)"
            ]
          },
          "metadata": {},
          "execution_count": 30
        }
      ]
    },
    {
      "cell_type": "code",
      "source": [
        "from sklearn.model_selection import train_test_split\n",
        "\n",
        "# Separação do label e das features\n",
        "X = df_base.drop('modelo', axis=1).values\n",
        "y = df_base['modelo'].values\n",
        "\n",
        "# Separação de dados de treino e teste\n",
        "train_features, test_features, class_train, class_test = train_test_split(X, y, test_size=0.20, random_state=10, stratify=y)"
      ],
      "metadata": {
        "id": "R1r-xHG6zCBc"
      },
      "execution_count": 31,
      "outputs": []
    },
    {
      "cell_type": "code",
      "source": [
        "from sklearn.feature_extraction.text import CountVectorizer\n",
        "\n",
        "# Criação de matriz com a contagem de cada token SEM stop words\n",
        "cv = CountVectorizer(max_features=1000)\n",
        "cv_train_features = cv.fit_transform(train_features.ravel())\n",
        "cv_test_features = cv.transform(test_features.ravel())\n",
        "\n",
        "print('Shape das features de treino:', cv_train_features.shape, ' Shape das features de teste:', cv_test_features.shape)"
      ],
      "metadata": {
        "colab": {
          "base_uri": "https://localhost:8080/"
        },
        "id": "b2_WhHqh9rfP",
        "outputId": "d7034488-c41c-4bfb-a557-3f217913f2c9"
      },
      "execution_count": 32,
      "outputs": [
        {
          "output_type": "stream",
          "name": "stdout",
          "text": [
            "Shape das features de treino: (606, 200)  Shape das features de teste: (152, 200)\n"
          ]
        }
      ]
    },
    {
      "cell_type": "code",
      "source": [
        "from sklearn import metrics\n",
        "\n",
        "def train_predict_model(classifier, \n",
        "                        train_features, train_labels, \n",
        "                        test_features, test_labels):\n",
        "    classifier = classifier.fit(train_features, train_labels)\n",
        "    predictions = classifier.predict(test_features) \n",
        "    return predictions "
      ],
      "metadata": {
        "id": "V0hv9eeF9wPE"
      },
      "execution_count": 33,
      "outputs": []
    },
    {
      "cell_type": "code",
      "source": [
        "def display_confusion_matrix(true_labels, predicted_labels, classes=[1,0]):\n",
        "    \n",
        "    total_classes = len(classes)\n",
        "    level_labels = [total_classes*[0], list(range(total_classes))]\n",
        "\n",
        "    cm = metrics.confusion_matrix(y_true=true_labels, y_pred=predicted_labels, \n",
        "                                  labels=classes)\n",
        "\n",
        "    cm_frame = pd.DataFrame(cm, index=classes, columns=classes,)\n",
        "    cm_frame.index.name = 'Actual'\n",
        "    cm_frame.columns.name = 'Predicted'\n",
        "\n",
        "    print(cm_frame)\n",
        "\n",
        "def display_classification_report(true_labels, predicted_labels, classes=[1,0]):\n",
        "\n",
        "    report = metrics.classification_report(y_true=true_labels, \n",
        "                                           y_pred=predicted_labels, \n",
        "                                           labels=classes) \n",
        "    print(report)\n",
        "\n",
        "def display_model_performance_metrics(true_labels, predicted_labels, classes=[1,0]):\n",
        "    print('Model Performance metrics:')\n",
        "    print('-'*30)\n",
        "    get_metrics(true_labels=true_labels, predicted_labels=predicted_labels)\n",
        "    print('\\nModel Classification report:')\n",
        "    print('-'*30)\n",
        "    display_classification_report(true_labels=true_labels, predicted_labels=predicted_labels, \n",
        "                                  classes=classes)\n",
        "    print('\\nPrediction Confusion Matrix:')\n",
        "    print('-'*30)\n",
        "    display_confusion_matrix(true_labels=true_labels, predicted_labels=predicted_labels, \n",
        "                             classes=classes)\n",
        "    \n",
        "def get_metrics(true_labels, predicted_labels):\n",
        "    \n",
        "    print('Accuracy:', np.round(\n",
        "                        metrics.accuracy_score(true_labels, \n",
        "                                               predicted_labels),\n",
        "                        4))\n",
        "    print('Precision:', np.round(\n",
        "                        metrics.precision_score(true_labels, \n",
        "                                               predicted_labels,\n",
        "                                               average='weighted'),\n",
        "                        4))\n",
        "    print('Recall:', np.round(\n",
        "                        metrics.recall_score(true_labels, \n",
        "                                               predicted_labels,\n",
        "                                               average='weighted'),\n",
        "                        4))\n",
        "    print('F1 Score:', np.round(\n",
        "                        metrics.f1_score(true_labels, \n",
        "                                               predicted_labels,\n",
        "                                               average='weighted'),\n",
        "                        4))\n"
      ],
      "metadata": {
        "id": "gJ9o329M90PX"
      },
      "execution_count": 34,
      "outputs": []
    },
    {
      "cell_type": "code",
      "source": [
        "from sklearn.ensemble import RandomForestClassifier\n",
        "import numpy as np\n",
        "\n",
        "rfc = RandomForestClassifier(n_jobs=-1)\n",
        "\n",
        "classes = list(df_base['modelo'].unique())\n",
        "\n",
        "classifier = rfc.fit(cv_train_features, class_train)\n",
        "\n",
        "rfc_tfidf_predictions = train_predict_model(classifier=rfc, \n",
        "                                                train_features=cv_train_features, train_labels=class_train,\n",
        "                                                test_features=cv_test_features, test_labels=class_test)\n",
        "\n",
        "display_model_performance_metrics(true_labels=class_test, predicted_labels=rfc_tfidf_predictions,classes=classes)"
      ],
      "metadata": {
        "colab": {
          "base_uri": "https://localhost:8080/"
        },
        "id": "QeNrLnAq91aD",
        "outputId": "69a0b1b4-f7a6-483b-8776-da12f5367bec"
      },
      "execution_count": 35,
      "outputs": [
        {
          "output_type": "stream",
          "name": "stdout",
          "text": [
            "Model Performance metrics:\n",
            "------------------------------\n",
            "Accuracy: 1.0\n",
            "Precision: 1.0\n",
            "Recall: 1.0\n",
            "F1 Score: 1.0\n",
            "\n",
            "Model Classification report:\n",
            "------------------------------\n",
            "                   precision    recall  f1-score   support\n",
            "\n",
            "        iPhone 14       1.00      1.00      1.00        40\n",
            "iPhone 14 Pro Max       1.00      1.00      1.00        70\n",
            "    iPhone 14 Pro       1.00      1.00      1.00        33\n",
            "   iPhone 14 Plus       1.00      1.00      1.00         9\n",
            "\n",
            "         accuracy                           1.00       152\n",
            "        macro avg       1.00      1.00      1.00       152\n",
            "     weighted avg       1.00      1.00      1.00       152\n",
            "\n",
            "\n",
            "Prediction Confusion Matrix:\n",
            "------------------------------\n",
            "Predicted          iPhone 14  iPhone 14 Pro Max  iPhone 14 Pro  iPhone 14 Plus\n",
            "Actual                                                                        \n",
            "iPhone 14                 40                  0              0               0\n",
            "iPhone 14 Pro Max          0                 70              0               0\n",
            "iPhone 14 Pro              0                  0             33               0\n",
            "iPhone 14 Plus             0                  0              0               9\n"
          ]
        }
      ]
    },
    {
      "cell_type": "code",
      "source": [
        "joblib.dump(classifier, \"model.joblib\")\n",
        "joblib.dump(cv, \"cv.joblib\")"
      ],
      "metadata": {
        "id": "P4fzKNO9-mOU",
        "outputId": "b3cd0bab-e843-4ee3-e64f-3432474a41bb",
        "colab": {
          "base_uri": "https://localhost:8080/"
        }
      },
      "execution_count": 36,
      "outputs": [
        {
          "output_type": "execute_result",
          "data": {
            "text/plain": [
              "['cv.joblib']"
            ]
          },
          "metadata": {},
          "execution_count": 36
        }
      ]
    },
    {
      "cell_type": "code",
      "source": [],
      "metadata": {
        "id": "SMN-xk9hbLTb"
      },
      "execution_count": null,
      "outputs": []
    }
  ]
}